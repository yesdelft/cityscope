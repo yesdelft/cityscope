{
 "cells": [
  {
   "cell_type": "code",
   "execution_count": 32,
   "metadata": {},
   "outputs": [
    {
     "name": "stdout",
     "output_type": "stream",
     "text": [
      "21.44248398026543 53.59357107865242\n",
      "{'id': '0599100000013208', 'year': 0.39864864864864863, 'geometry': {'type': 'Polygon', 'coordinates': [[[4.523021985967453, 51.92077657547447], [4.523023183709508, 51.92077627866481], [4.523040390046194, 51.9207720276727], [4.523103796801922, 51.92075634113758], [4.523110939297128, 51.92075457792882], [4.523121002604995, 51.92075211709586], [4.523129488534569, 51.92075004016897], [4.523147585975468, 51.920745562005905], [4.523164398117351, 51.920741397984926], [4.523154372061224, 51.92072604351117], [4.523159455101577, 51.920724786504664], [4.523215134585583, 51.92071102960806], [4.523233205409467, 51.92073893748721], [4.523214216683051, 51.92074365180674], [4.523236092738546, 51.92077778985136], [4.523159701695709, 51.92079664390733], [4.523190331961749, 51.9208442394592], [4.523177333629125, 51.920847379841504], [4.523184108253133, 51.920857946407], [4.523089750887747, 51.920881252584785], [4.523021985967453, 51.92077657547447]]]}, 'usage': [{'year': 1922, 'energy': 0.031781217205276435}, {'year': 1923, 'energy': 0.0}, {'year': 1924, 'energy': 0.07666786155729231}, {'year': 1925, 'energy': 0.031339646195973445}, {'year': 1926, 'energy': 0.003512476467995454}, {'year': 1927, 'energy': 0.02435133348537676}, {'year': 1928, 'energy': 0.0650356050612597}, {'year': 1929, 'energy': 0.042326074477776164}, {'year': 1930, 'energy': 0.06804011715552032}, {'year': 1931, 'energy': 0.11233681177341526}, {'year': 1932, 'energy': 0.09621361594507673}, {'year': 1933, 'energy': 0.08899474301288396}, {'year': 1934, 'energy': 0.12951195343004573}, {'year': 1935, 'energy': 0.0201773343411658}, {'year': 1936, 'energy': 0.113372082280985}, {'year': 1937, 'energy': 0.11382958016627204}, {'year': 1938, 'energy': 0.08214847610730588}, {'year': 1939, 'energy': 0.14312658760379934}, {'year': 1940, 'energy': 0.09082760948526011}, {'year': 1941, 'energy': 0.08332534737054696}, {'year': 1942, 'energy': 0.15860136079698647}, {'year': 1943, 'energy': 0.14790373193462497}, {'year': 1944, 'energy': 0.07417351048022923}, {'year': 1945, 'energy': 0.14694534464001485}, {'year': 1946, 'energy': 0.17262677967046003}, {'year': 1947, 'energy': 0.20722927668835162}, {'year': 1948, 'energy': 0.13073313395207312}, {'year': 1949, 'energy': 0.17218866305270247}, {'year': 1950, 'energy': 0.12451932478982712}, {'year': 1951, 'energy': 0.20363564009774957}, {'year': 1952, 'energy': 0.1818287154523214}, {'year': 1953, 'energy': 0.2058710782987945}, {'year': 1954, 'energy': 0.23283049422748672}, {'year': 1955, 'energy': 0.18019834315238614}, {'year': 1956, 'energy': 0.21164427806670272}, {'year': 1957, 'energy': 0.2530896597176863}, {'year': 1958, 'energy': 0.17150240967805647}, {'year': 1959, 'energy': 0.26763893443118236}, {'year': 1960, 'energy': 0.26197690626415177}, {'year': 1961, 'energy': 0.22796533589234816}, {'year': 1962, 'energy': 0.25084673740001207}, {'year': 1963, 'energy': 0.28858981491405206}, {'year': 1964, 'energy': 0.2666235933834192}, {'year': 1965, 'energy': 0.20033071682310027}, {'year': 1966, 'energy': 0.2666469341921841}, {'year': 1967, 'energy': 0.2809414441358515}, {'year': 1968, 'energy': 0.3628436002125668}, {'year': 1969, 'energy': 0.2752260685131003}, {'year': 1970, 'energy': 0.30988504975652953}, {'year': 1971, 'energy': 0.38248053488309075}, {'year': 1972, 'energy': 0.3042262325575451}, {'year': 1973, 'energy': 0.33530283750126205}, {'year': 1974, 'energy': 0.3509697704326199}, {'year': 1975, 'energy': 0.3396777269788754}, {'year': 1976, 'energy': 0.3300810582631819}, {'year': 1977, 'energy': 0.2951443600572868}, {'year': 1978, 'energy': 0.39051161563358117}, {'year': 1979, 'energy': 0.3684958948845858}, {'year': 1980, 'energy': 0.35295935825431274}, {'year': 1981, 'energy': 0.3278705564013736}, {'year': 1982, 'energy': 0.34573472454962983}, {'year': 1983, 'energy': 0.3739529515884309}, {'year': 1984, 'energy': 0.3873760466733375}, {'year': 1985, 'energy': 0.3226962023499364}, {'year': 1986, 'energy': 0.41230514691177933}, {'year': 1987, 'energy': 0.36799384963286735}, {'year': 1988, 'energy': 0.4131111101235571}, {'year': 1989, 'energy': 0.4068400904838326}, {'year': 1990, 'energy': 0.3931821946186483}, {'year': 1991, 'energy': 0.5159569335415589}, {'year': 1992, 'energy': 0.4064046682741764}, {'year': 1993, 'energy': 0.43286654327440277}, {'year': 1994, 'energy': 0.41401041474293504}, {'year': 1995, 'energy': 0.42392264279536995}, {'year': 1996, 'energy': 0.4405585801310709}, {'year': 1997, 'energy': 0.37197403020670816}, {'year': 1998, 'energy': 0.4559785779795332}, {'year': 1999, 'energy': 0.5691048789825639}, {'year': 2000, 'energy': 0.4849311832636408}, {'year': 2001, 'energy': 0.4925459143366736}, {'year': 2002, 'energy': 0.48702410229647897}, {'year': 2003, 'energy': 0.5048274220986784}, {'year': 2004, 'energy': 0.41596113008449864}, {'year': 2005, 'energy': 0.49260184702297677}, {'year': 2006, 'energy': 0.479339112906955}, {'year': 2007, 'energy': 0.5187027150678856}, {'year': 2008, 'energy': 0.5463436130136243}, {'year': 2009, 'energy': 0.5146861867587963}, {'year': 2010, 'energy': 0.5336972615398903}, {'year': 2011, 'energy': 0.5400110828944744}, {'year': 2012, 'energy': 0.5218760274255289}, {'year': 2013, 'energy': 0.548665941919586}, {'year': 2014, 'energy': 0.521928190480178}, {'year': 2015, 'energy': 0.5238638988036157}, {'year': 2016, 'energy': 0.5501700864978987}, {'year': 2017, 'energy': 0.5479282607384862}, {'year': 2018, 'energy': 0.5986413245744371}, {'year': 2019, 'energy': 0.5918232678744889}, {'year': 2020, 'energy': 0.5844694894467173}, {'year': 2021, 'energy': 0.5999056687452858}]}\n"
     ]
    }
   ],
   "source": [
    "import json\n",
    "import numpy as np\n",
    "import random\n",
    "\n",
    "# Opening JSON file\n",
    "f = open('BAG_WFS_build_4326.geojson',)\n",
    "data = json.load(f)\n",
    "\n",
    "# Closing file\n",
    "f.close()\n",
    "\n",
    "first = data['features'][0]\n",
    "\n",
    "fakes = []\n",
    "for building in data[\"features\"]:\n",
    "\tfake = {}\n",
    "\tfake[\"id\"] = building[\"properties\"][\"identificatie\"]\n",
    "\tfake[\"year\"] = building[\"properties\"][\"bouwjaar\"]\n",
    "\tfake[\"geometry\"] = building[\"geometry\"]\n",
    "\n",
    "\tbuilding_energy_mu = random.randint(5, 30)\n",
    "\tbuilding_energy_sigma = 2\n",
    "\tbuilding_energy_increase_constant = 1 / 100 * 30\n",
    "    \n",
    "\t\n",
    "\tusage = list(map(lambda x: {\n",
    "\t\t\"year\": x,\n",
    "\t\t\"energy\": np.random.normal(building_energy_mu + (x - 1922) * building_energy_increase_constant, building_energy_sigma)\n",
    "\t\t}, range(1922, 2022)))\n",
    "\n",
    "\n",
    "\tfake[\"usage\"] = usage\n",
    "\tfakes.append(fake)\n",
    "\n",
    "# Normalization of data\n",
    "energies = list(map(lambda x: list(map(lambda usage: usage[\"energy\"], x[\"usage\"])), fakes))[0]\n",
    "max_energy = max(energies)\n",
    "min_energy = min(energies)\n",
    "\n",
    "for fake in fakes:\n",
    "\tfake[\"year\"] = (fake[\"year\"] - 1873) / 148 \n",
    "\tfor x in fake[\"usage\"]:\n",
    "\t\tx[\"energy\"] = (x[\"energy\"] - min_energy) / max_energy\n",
    "print(min_energy, max_energy)\n",
    "print(fakes[0])\n"
   ]
  },
  {
   "cell_type": "code",
   "execution_count": 33,
   "metadata": {},
   "outputs": [],
   "source": [
    "with open(\"fakeBuildingData.json\", \"w\") as f:\n",
    "    json.dump(fakes, f)"
   ]
  }
 ],
 "metadata": {
  "interpreter": {
   "hash": "37f303f4a187250336be1f12335e58cf020b7cf0842a48e3d833364eb996cefd"
  },
  "kernelspec": {
   "display_name": "Python 3.9.4 ('luna-ai')",
   "language": "python",
   "name": "python3"
  },
  "language_info": {
   "codemirror_mode": {
    "name": "ipython",
    "version": 3
   },
   "file_extension": ".py",
   "mimetype": "text/x-python",
   "name": "python",
   "nbconvert_exporter": "python",
   "pygments_lexer": "ipython3",
   "version": "3.9.4"
  },
  "orig_nbformat": 4
 },
 "nbformat": 4,
 "nbformat_minor": 2
}
