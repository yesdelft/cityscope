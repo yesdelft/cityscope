{
 "cells": [
  {
   "cell_type": "code",
   "execution_count": null,
   "metadata": {},
   "outputs": [],
   "source": [
    "import pandas as pd\n",
    "import numpy as np\n",
    "import random\n",
    "from smart import Smart\n",
    "\n",
    "real_energy_usages = pd.read_csv(\"EUR/Integrated/energy_usages.csv\")\n",
    "\n",
    "smart = Smart()\n",
    "print(real_energy_usages[\"building_name\"].value_counts())\n",
    "# map IDs to building names, to do:use real mappings\n",
    "id_to_name = {\n",
    "    \"0599100000309497\" : \"Polak\",\n",
    "    \"0599100000319364\" : \"Sanders en PG\",\n",
    "    \"0599100000332174\" : \"Bayle\",\n",
    "    \"0599100000332175\" : \"Mandeville\",\n",
    "    \"0599100000332176\" : \"Van der Groot\"\n",
    "}"
   ]
  },
  {
   "cell_type": "code",
   "execution_count": null,
   "metadata": {},
   "outputs": [],
   "source": [
    "def simulateEnergyUsage():\n",
    "    building_energy_mu = random.randint(5, 30)\n",
    "    building_energy_sigma = 2\n",
    "    building_energy_increase_constant = 1 / 100 * 30\n",
    "\n",
    "    years = 100\n",
    "    start_year = 1922\n",
    "\n",
    "    usage = list(map(lambda x: {\n",
    "        \"year\": x,\n",
    "        \"energy\": np.random.normal(building_energy_mu + (x - start_year) * building_energy_increase_constant, building_energy_sigma)\n",
    "        }, range(start_year, start_year + years)))\n",
    "    return usage\n"
   ]
  },
  {
   "cell_type": "code",
   "execution_count": null,
   "metadata": {},
   "outputs": [],
   "source": [
    "import json\n",
    "\n",
    "\n",
    "# Opening JSON file\n",
    "f = open('BAG_WFS_build_4326.geojson',)\n",
    "data = json.load(f)\n",
    "\n",
    "# Closing file\n",
    "f.close()\n",
    "\n",
    "first = data['features'][0]\n",
    "\n",
    "fakes = []\n",
    "for building in data[\"features\"]:\n",
    "\tfake = {}\n",
    "\tfake[\"id\"] = building[\"properties\"][\"identificatie\"]\n",
    "\tfake[\"year\"] = building[\"properties\"][\"bouwjaar\"]\n",
    "\tfake[\"geometry\"] = building[\"geometry\"]\n",
    "\n",
    "\tusage = simulateEnergyUsage()\n",
    "\n",
    "\n",
    "\tfake[\"usage\"] = usage\n",
    "\tfakes.append(fake)\n",
    "\n",
    "# Normalization of data\n",
    "energies = list(map(lambda x: list(map(lambda usage: usage[\"energy\"], x[\"usage\"])), fakes))\n",
    "energies = [e for es in energies for e in es]\n",
    "max_energy = max(energies)\n",
    "min_energy = min(energies)\n",
    "\n",
    "\n",
    "for fake in fakes:\n",
    "\tfake[\"year\"] = (fake[\"year\"] - 1873) / 148 \n",
    "\tfor x in fake[\"usage\"]:\n",
    "\t\told_energy = x[\"energy\"]\n",
    "\t\tx[\"energy\"] = (x[\"energy\"] - min_energy) / max_energy\n",
    "\t\n",
    "print(min_energy, max_energy)\n",
    "# print(fakes[4])\n",
    "\n",
    "# Consider changing format two one longer array instead of different dictionaries"
   ]
  },
  {
   "cell_type": "code",
   "execution_count": null,
   "metadata": {},
   "outputs": [],
   "source": [
    "with open(\"fakeBuildingData.json\", \"w\") as f:\n",
    "    json.dump(fakes, f)"
   ]
  }
 ],
 "metadata": {
  "interpreter": {
   "hash": "bf43a2211f5453fe46be58dc81d41bfdffdcca12e789a24e79b6c0b8836fefbb"
  },
  "kernelspec": {
   "display_name": "Python 3.9.4 ('smart-campus')",
   "language": "python",
   "name": "python3"
  },
  "language_info": {
   "codemirror_mode": {
    "name": "ipython",
    "version": 3
   },
   "file_extension": ".py",
   "mimetype": "text/x-python",
   "name": "python",
   "nbconvert_exporter": "python",
   "pygments_lexer": "ipython3",
   "version": "3.9.4"
  },
  "orig_nbformat": 4
 },
 "nbformat": 4,
 "nbformat_minor": 2
}
