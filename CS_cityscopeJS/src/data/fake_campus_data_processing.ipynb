{
 "cells": [
  {
   "cell_type": "code",
   "execution_count": 60,
   "metadata": {},
   "outputs": [
    {
     "name": "stdout",
     "output_type": "stream",
     "text": [
      "1.6215514998061904 61.89849556810476\n"
     ]
    }
   ],
   "source": [
    "import json\n",
    "import numpy as np\n",
    "import random\n",
    "\n",
    "# Opening JSON file\n",
    "f = open('BAG_WFS_build_4326.geojson',)\n",
    "data = json.load(f)\n",
    "\n",
    "# Closing file\n",
    "f.close()\n",
    "\n",
    "first = data['features'][0]\n",
    "\n",
    "fakes = []\n",
    "for building in data[\"features\"]:\n",
    "\tfake = {}\n",
    "\tfake[\"id\"] = building[\"properties\"][\"identificatie\"]\n",
    "\tfake[\"year\"] = building[\"properties\"][\"bouwjaar\"]\n",
    "\tfake[\"geometry\"] = building[\"geometry\"]\n",
    "\n",
    "\tbuilding_energy_mu = random.randint(5, 30)\n",
    "\tbuilding_energy_sigma = 2\n",
    "\tbuilding_energy_increase_constant = 1 / 100 * 30\n",
    "    \n",
    "\t\n",
    "\tusage = list(map(lambda x: {\n",
    "\t\t\"year\": x,\n",
    "\t\t\"energy\": np.random.normal(building_energy_mu + (x - 1922) * building_energy_increase_constant, building_energy_sigma)\n",
    "\t\t}, range(1922, 2022)))\n",
    "\n",
    "\n",
    "\tfake[\"usage\"] = usage\n",
    "\tfakes.append(fake)\n",
    "\n",
    "# Normalization of data\n",
    "energies = list(map(lambda x: list(map(lambda usage: usage[\"energy\"], x[\"usage\"])), fakes))\n",
    "energies = [e for es in energies for e in es]\n",
    "max_energy = max(energies)\n",
    "min_energy = min(energies)\n",
    "\n",
    "\n",
    "for fake in fakes:\n",
    "\tfake[\"year\"] = (fake[\"year\"] - 1873) / 148 \n",
    "\tfor x in fake[\"usage\"]:\n",
    "\t\told_energy = x[\"energy\"]\n",
    "\t\tx[\"energy\"] = (x[\"energy\"] - min_energy) / max_energy\n",
    "\t\n",
    "print(min_energy, max_energy)\n",
    "# print(fakes[4])\n",
    "\n",
    "# Consider changing format two one longer array instead of different dictionaries"
   ]
  },
  {
   "cell_type": "code",
   "execution_count": 61,
   "metadata": {},
   "outputs": [],
   "source": [
    "with open(\"fakeBuildingData.json\", \"w\") as f:\n",
    "    json.dump(fakes, f)"
   ]
  }
 ],
 "metadata": {
  "interpreter": {
   "hash": "37f303f4a187250336be1f12335e58cf020b7cf0842a48e3d833364eb996cefd"
  },
  "kernelspec": {
   "display_name": "Python 3.9.4 ('luna-ai')",
   "language": "python",
   "name": "python3"
  },
  "language_info": {
   "codemirror_mode": {
    "name": "ipython",
    "version": 3
   },
   "file_extension": ".py",
   "mimetype": "text/x-python",
   "name": "python",
   "nbconvert_exporter": "python",
   "pygments_lexer": "ipython3",
   "version": "3.9.4"
  },
  "orig_nbformat": 4
 },
 "nbformat": 4,
 "nbformat_minor": 2
}
