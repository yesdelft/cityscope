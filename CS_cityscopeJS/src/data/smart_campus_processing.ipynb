{
 "cells": [
  {
   "cell_type": "code",
   "execution_count": null,
   "metadata": {},
   "outputs": [],
   "source": [
    "import pandas as pd\n",
    "d = pd.read_excel(\"EUR/Polak-Kwartier-20190101.xlsx\", names=[\"time\", \"kWh\"], converters= {\"Datum-tijd tot\": pd.to_datetime}, skiprows=4, index_col=0)\n",
    "d"
   ]
  },
  {
   "cell_type": "code",
   "execution_count": null,
   "metadata": {},
   "outputs": [],
   "source": [
    "d[\"month\"] = pd.DatetimeIndex(d.index).month \n",
    "d[\"year\"] = pd.DatetimeIndex(d.index).year\n",
    "d = d[d[\"year\"]==2019]\n",
    "d.tail(4)"
   ]
  },
  {
   "cell_type": "code",
   "execution_count": null,
   "metadata": {},
   "outputs": [],
   "source": [
    "import matplotlib\n",
    "import matplotlib.pyplot as plt\n",
    "import matplotlib.patches as mpatches\n",
    "\n",
    "fig = plt.figure(figsize=(32, 12))\n",
    "# fig, axs = plt.subplots(nrows=3, ncols=4, figsize=(8,8))\n",
    "# axs= axs.ravel()\n",
    "# month_grps = d.groupby(\"month\")\n",
    "\n",
    "# for ax, (i, sub) in zip(axs, month_grps):\n",
    "#     sub[\"kWh\"].plot(kind=\"line\", x=\"time\", legend=True, title=i, ax=ax)\n",
    "# monthly_means = d.resample(\"M\").mean()\n",
    "# print(monthly_means)\n",
    "monthly_means = d.groupby(pd.Grouper(level='time', freq='D'))[\"kWh\"].sum()\n",
    "monthly_means = monthly_means.groupby(pd.Grouper(level='time', freq='M')).mean()\n",
    "daily_mean_for_year = monthly_means.mean()\n",
    "print(daily_mean_for_year)\n",
    "# print(monthly_means)\n",
    "\n",
    "for i in range(1, (12+1)):\n",
    "    ax = fig.add_subplot(4, 3, i)\n",
    "    # print(f\"len is {len(d)}\")\n",
    "    plot_d = d[d[\"month\"]==i]\n",
    "    # monthly_mean = monthly_means[monthly_means[\"month\"]==i]\n",
    "    monthly_mean = monthly_means[monthly_means.index.month==i]\n",
    "    mean = monthly_mean.iloc[0]\n",
    "    # print(mean)\n",
    "    # print(i, monthly_mean)\n",
    "    # print(i, monthly_mean.head(1))\n",
    "    # print(f\"len is {len(plot_d)}\")\n",
    "    # print(plot_d.tail(2))\n",
    "    # day_grps = plot_d.groupby(pd.Grouper(level='time', freq='D')).sum()\n",
    "    day_grps = plot_d.groupby(pd.Grouper(level='time', freq='D'))[\"kWh\"].sum()\n",
    "\n",
    "    # print(i)\n",
    "    # print(day_grps)\n",
    "    day_grps.plot(kind=\"line\", y=\"kWh\", ax=ax)\n",
    "    # monthly_mean.plot(kind=\"line\", ax=ax)\n",
    "    ax.axhline(y=mean, color=\"g\", alpha=0.5, linestyle=\"-\")\n",
    "    ax.axhline(y=daily_mean_for_year, alpha=1, color=\"y\", linestyle=\"dotted\")\n",
    "    ax.legend([\"daily kWh\", \"local daily avg\", \"global daily avg\"])\n",
    "    ax.set_xlabel(\"Day\", labelpad=-3)\n",
    "    ax.set_ylabel(\"Electricity Usage (kWh)\")\n",
    "    ax.grid()\n",
    "    # ax.lin\n",
    "plt.tight_layout()"
   ]
  },
  {
   "cell_type": "code",
   "execution_count": null,
   "metadata": {},
   "outputs": [],
   "source": [
    "# Plotting GBS data \n",
    "# https://stackoverflow.com/questions/55776092/plotting-a-graph-by-month-wise-in-pandas\n",
    "# https://stackoverflow.com/questions/61443949/python-pandas-group-by-then-plot-by-category\n",
    "\n",
    "gbs_val_descriptions = {\n",
    "    \"FLOW\":\"airflow-sensor\",\n",
    "    \"RS-CV\":\"regelsign-verwarming\",\n",
    "    \"RS-GKW\":\"regelsign-koeling\",\n",
    "    \"RS-VAV\":\"regelsign-vav\", # Variable air volumewith \n",
    "    \"PIR\":\"pir\", # Infrared sensor\n",
    "    \"RM\":\"ruimte-modus\",\n",
    "    \"RMT\":\"co2-ruimte\",\n",
    "    \"SP\":\"setpoint-co2\",\n",
    "}\n",
    "\n",
    "d = pd.read_excel(\"EUR/2022w18_GBS_trend_Y03-08.xlsx\", parse_dates=[[\"Date\", \"Time\"]], index_col=0)\n",
    "print(d.columns)\n",
    "# d.drop([\"Y03VAV0339TE-01BSP.PointValue\", 'Y03VAV0339TE-01CPA.PointValue'], axis=1, inplace=True)\n",
    "d.drop([\"Y03VAV0339TE-01BSP.PointValue\", 'Y03VAV0339TE-01CPA.PointValue', 'Y03VAV0339TE-01RMT.PointValue', 'Y03VAV0339TE-01SP.PointValue'], axis=1, inplace=True)\n",
    "# What is BSP and CPA?\n",
    "print(d.columns)\n",
    "d = d.rename(columns=lambda s: [value for key, value in gbs_val_descriptions.items() if key in s][0])\n",
    "d.head(2)"
   ]
  }
 ],
 "metadata": {
  "interpreter": {
   "hash": "bf43a2211f5453fe46be58dc81d41bfdffdcca12e789a24e79b6c0b8836fefbb"
  },
  "kernelspec": {
   "display_name": "Python 3.9.4 ('smart-campus')",
   "language": "python",
   "name": "python3"
  },
  "language_info": {
   "codemirror_mode": {
    "name": "ipython",
    "version": 3
   },
   "file_extension": ".py",
   "mimetype": "text/x-python",
   "name": "python",
   "nbconvert_exporter": "python",
   "pygments_lexer": "ipython3",
   "version": "3.9.4"
  },
  "orig_nbformat": 4
 },
 "nbformat": 4,
 "nbformat_minor": 2
}
