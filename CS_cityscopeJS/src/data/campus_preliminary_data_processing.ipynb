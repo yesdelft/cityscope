{
 "cells": [
  {
   "cell_type": "code",
   "execution_count": null,
   "metadata": {},
   "outputs": [],
   "source": [
    "import pandas as pd\n",
    "d = pd.read_excel(\"Polak-Kwartier-20190101.xlsx\", names=[\"time\", \"kWh\"], converters= {\"Datum-tijd tot\": pd.to_datetime}, skiprows=4)\n",
    "d"
   ]
  },
  {
   "cell_type": "code",
   "execution_count": null,
   "metadata": {},
   "outputs": [],
   "source": [
    "# d.kWh.describe()\n",
    "# d.groupby([d.time.hour]).kWh.sum()\n",
    "# https://pandas.pydata.org/pandas-docs/stable/user_guide/timeseries.html#offset-aliases\n",
    "d_g = d.groupby(pd.Grouper(key='time', freq='M')).sum()\n",
    "d_g.head(3)"
   ]
  },
  {
   "cell_type": "code",
   "execution_count": null,
   "metadata": {},
   "outputs": [],
   "source": [
    "import matplotlib.pyplot as plt\n",
    "\n",
    "ax = plt.gca()\n",
    "# d_g.plot(kind=\"line\", x=\"time\", y=\"kWh\", ax=ax)\n",
    "d_g.plot()\n",
    "# plt.plot(xAxis,yAxis)\n",
    "# plt.title('title name')\n",
    "# plt.xlabel('xAxis name')\n",
    "# plt.ylabel('yAxis name')\n",
    "# plt.show()"
   ]
  }
 ],
 "metadata": {
  "interpreter": {
   "hash": "bf43a2211f5453fe46be58dc81d41bfdffdcca12e789a24e79b6c0b8836fefbb"
  },
  "kernelspec": {
   "display_name": "Python 3.9.4 ('smart-campus')",
   "language": "python",
   "name": "python3"
  },
  "language_info": {
   "codemirror_mode": {
    "name": "ipython",
    "version": 3
   },
   "file_extension": ".py",
   "mimetype": "text/x-python",
   "name": "python",
   "nbconvert_exporter": "python",
   "pygments_lexer": "ipython3",
   "version": "3.9.4"
  },
  "orig_nbformat": 4
 },
 "nbformat": 4,
 "nbformat_minor": 2
}
