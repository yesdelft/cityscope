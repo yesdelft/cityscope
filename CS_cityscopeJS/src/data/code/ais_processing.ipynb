{
 "cells": [
  {
   "cell_type": "code",
   "execution_count": null,
   "metadata": {},
   "outputs": [],
   "source": [
    "# Information on AIVDM AIS format built on top of NMEA\n",
    "# https://gpsd.gitlab.io/gpsd/AIVDM.html\n",
    "# https://gitlab.com/gpsd/gpsd/-/blob/master/devtools/README\n",
    "# http://quark-elec.com/doc/QK-A026_application_note.pdf\n",
    "\n",
    "# Create Test Server\n",
    "# netcat -l 4444\n",
    "# Connect To Server\n",
    "# netcat 127.0.0.1 4444\n",
    "# Stream Server Output Into AIVDM Parser\n",
    "# nc 127.0.0.1 4444 | Python ais.py"
   ]
  }
 ],
 "metadata": {
  "kernelspec": {
   "display_name": "Python 3.8.6 ('pytorch-cpu')",
   "language": "python",
   "name": "python3"
  },
  "language_info": {
   "codemirror_mode": {
    "name": "ipython",
    "version": 3
   },
   "file_extension": ".py",
   "mimetype": "text/x-python",
   "name": "python",
   "nbconvert_exporter": "python",
   "pygments_lexer": "ipython3",
   "version": "3.8.6"
  },
  "orig_nbformat": 4,
  "vscode": {
   "interpreter": {
    "hash": "5ff11b96d6191b1744b0c21f422c8b48708f27d8a8903ac73174d6a3fb479488"
   }
  }
 },
 "nbformat": 4,
 "nbformat_minor": 2
}
