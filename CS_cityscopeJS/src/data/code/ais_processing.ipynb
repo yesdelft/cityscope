{
 "cells": [
  {
   "cell_type": "code",
   "execution_count": null,
   "metadata": {},
   "outputs": [],
   "source": [
    "# Information on AIVDM AIS format built on top of NMEA\n",
    "# https://gpsd.gitlab.io/gpsd/AIVDM.html\n",
    "# https://gitlab.com/gpsd/gpsd/-/blob/master/devtools/README\n",
    "# http://quark-elec.com/doc/QK-A026_application_note.pdf\n",
    "\n",
    "# Create Test Server\n",
    "# netcat -l 4444\n",
    "# Connect To Server\n",
    "# netcat 127.0.0.1 4444\n",
    "# Stream Server Output Into AIVDM Parser\n",
    "# nc 127.0.0.1 4444 | Python ais.py > ais.log"
   ]
  },
  {
   "cell_type": "code",
   "execution_count": null,
   "metadata": {},
   "outputs": [],
   "source": [
    "import hashlib\n",
    "import time\n",
    "\n",
    "def scan_for_updates(interval):\n",
    "    oldHash = \"\" \n",
    "\n",
    "    # log_file = \"AIS.LOG\"\n",
    "    log_file = \"aisfeedtest.txt\"\n",
    "    data = {}\n",
    "    file_position = 0\n",
    "\n",
    "    while True and file_position == 0:\n",
    "        # Update table whenever scanner_data.txt is modified\n",
    "        with open(log_file, \"r\") as f:\n",
    "                # newHash = hashlib.md5(f.read().encode('UTF-8')).hexdigest()\n",
    "                # if oldHash != newHash:\n",
    "                #         print(\"file changed\")\n",
    "                        \n",
    "                #         f.seek(file_position)  # fast forward beyond content read previously\n",
    "                #         for line in f:\n",
    "                #             data.append(line)\n",
    "\n",
    "                #         file_position = f.tell()\n",
    "                #         oldHash = newHash\n",
    "                # else:   \n",
    "                #     print(\"file is the same\")\n",
    "                print(f)\n",
    "                current_ship_id = -1\n",
    "                current_ship_properties = {}\n",
    "                for line in f.readlines():\n",
    "                    print(line)\n",
    "\n",
    "                    # Strip line to deal with new line character\n",
    "                    if line.strip() == \"%%\":  \n",
    "                        current_ship_old_information = data.get(current_ship_id, {})\n",
    "                        \n",
    "                        for k, v in current_ship_properties.items():\n",
    "                            current_ship_old_information[k] = v\n",
    "\n",
    "                        data[current_ship_id] = current_ship_old_information\n",
    "\n",
    "                        current_ship_id = -1\n",
    "                        current_ship_properties = {}\n",
    "                        continue\n",
    "\n",
    "                    print(\"Splitting\",line)\n",
    "\n",
    "                    property, val = map(str.strip, line.split(\":\"))\n",
    "                    properties_to_save = [\"MMSI\", \"Call Sign\", \"Vessel Name\", \"Longitude\", \"Latitude\"]\n",
    "\n",
    "                    if property not in properties_to_save:\n",
    "                        continue\n",
    "\n",
    "                    if property == \"MMSI\":\n",
    "                        current_ship_id = val\n",
    "                    else:\n",
    "                        current_ship_properties[property] = val\n",
    "                print(data)\n",
    "                file_position = 1\n",
    "                # print(f\"Current data length {data}\")\n",
    "    \n",
    "        #interval should be an integer, the number of seconds to wait\n",
    "        time.sleep(interval) \n",
    "scan_for_updates(3)\n"
   ]
  },
  {
   "cell_type": "code",
   "execution_count": null,
   "metadata": {},
   "outputs": [],
   "source": [
    "scan_for_updates(3)"
   ]
  }
 ],
 "metadata": {
  "kernelspec": {
   "display_name": "Python 3.8.6 ('pytorch-cpu')",
   "language": "python",
   "name": "python3"
  },
  "language_info": {
   "codemirror_mode": {
    "name": "ipython",
    "version": 3
   },
   "file_extension": ".py",
   "mimetype": "text/x-python",
   "name": "python",
   "nbconvert_exporter": "python",
   "pygments_lexer": "ipython3",
   "version": "3.8.6"
  },
  "orig_nbformat": 4,
  "vscode": {
   "interpreter": {
    "hash": "5ff11b96d6191b1744b0c21f422c8b48708f27d8a8903ac73174d6a3fb479488"
   }
  }
 },
 "nbformat": 4,
 "nbformat_minor": 2
}
