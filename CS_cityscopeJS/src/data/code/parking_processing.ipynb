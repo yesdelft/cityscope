{
 "cells": [
  {
   "cell_type": "code",
   "execution_count": null,
   "metadata": {},
   "outputs": [],
   "source": [
    "import pandas as pd\n",
    "import re\n",
    "\n",
    "df = pd.read_csv(f\"../rdw/parking/Open_Data_Parkeren__GEOMETRIE_GEBIED.csv\", sep=',')\n",
    "df = df.rename(columns={\"GeoDataAsText\":\"GeoData\"})\n",
    "df = df.reset_index()\n",
    "df[\"GeoData\"] = df[\"GeoData\"].astype(\"string\")\n",
    "\n",
    "parking_spaces = []\n",
    "for index, row in df.iterrows():\n",
    "    parking_space = {}\n",
    "    parking_space[\"areaId\"] = row[\"AreaId\"]\n",
    "    parking_space[\"geometry\"] = {}\n",
    "\n",
    "    raw_geo = row[\"GeoData\"]\n",
    "\n",
    "    # Deal with empty geodata turning into float or na\n",
    "    if pd.isna(raw_geo):\n",
    "        continue\n",
    "\n",
    "    geo = raw_geo.split(\" \", 1)[1]\n",
    "    coordinate_type = raw_geo.split(\" \", 1)[0]\n",
    "    geo = geo[2:-2]\n",
    "    if coordinate_type == \"POINT\" or index > 2:\n",
    "        continue\n",
    "    \n",
    "    coordinates = []\n",
    "    for lonlat in geo.split(\", \"):\n",
    "        lon, lat = lonlat.split()\n",
    "\n",
    "        lon = float(lon)\n",
    "        lat = float(lat)\n",
    "        coordinates.append([lon, lat])\n",
    "\n",
    "    parking_space[\"geometry\"][\"type\"] = coordinate_type.lower().capitalize()\n",
    "    parking_space[\"geometry\"][\"coordinates\"] = coordinates\n",
    "    parking_spaces.append(parking_space)\n",
    "# print(parking_spaces[:2])\n",
    "\n"
   ]
  },
  {
   "cell_type": "code",
   "execution_count": null,
   "metadata": {},
   "outputs": [],
   "source": [
    "import json\n",
    "with open(f\"../objects/parking_spaces.json\", \"w\") as f:\n",
    "    json.dump(parking_spaces, f)"
   ]
  }
 ],
 "metadata": {
  "kernelspec": {
   "display_name": "Python 3.8.6 ('pytorch-cpu')",
   "language": "python",
   "name": "python3"
  },
  "language_info": {
   "codemirror_mode": {
    "name": "ipython",
    "version": 3
   },
   "file_extension": ".py",
   "mimetype": "text/x-python",
   "name": "python",
   "nbconvert_exporter": "python",
   "pygments_lexer": "ipython3",
   "version": "3.8.6"
  },
  "orig_nbformat": 4,
  "vscode": {
   "interpreter": {
    "hash": "5ff11b96d6191b1744b0c21f422c8b48708f27d8a8903ac73174d6a3fb479488"
   }
  }
 },
 "nbformat": 4,
 "nbformat_minor": 2
}
