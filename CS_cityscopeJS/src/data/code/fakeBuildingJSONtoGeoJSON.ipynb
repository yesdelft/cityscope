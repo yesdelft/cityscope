{
 "cells": [
  {
   "cell_type": "code",
   "execution_count": null,
   "metadata": {},
   "outputs": [],
   "source": [
    "import json"
   ]
  },
  {
   "cell_type": "code",
   "execution_count": null,
   "metadata": {},
   "outputs": [],
   "source": [
    "path = './fakeAndRealEnergyData.json'"
   ]
  },
  {
   "cell_type": "code",
   "execution_count": null,
   "metadata": {},
   "outputs": [],
   "source": [
    "with open(path, 'r') as handle:\n",
    "    parsed = json.load(handle)\n",
    "\n",
    "print(json.dumps(parsed, indent=4, sort_keys=True))    \n",
    "# jsonDumpDic = json.dumps(parsed)"
   ]
  },
  {
   "cell_type": "markdown",
   "metadata": {},
   "source": [
    "## get json and save as geojson\n",
    "\n",
    "a geojson would look like the following:\n",
    "```json\n",
    "{\n",
    "\"type\": \"FeatureCollection\",\n",
    "\"name\": \"BAG_WFS_build_4326\",\n",
    "\"crs\": { \"type\": \"name\", \"properties\": { \"name\": \"urn:ogc:def:crs:OGC:1.3:CRS84\" } },\n",
    "\"features\": [\n",
    "{ \"type\": \"Feature\", \n",
    "\"properties\": { \"prop1\": \"prop1Val\", \"prop2\": \"prop2Val\", \"prop3\": \"prop3Val\", \"prop4\": \"prop4Val\" }, \n",
    "\"geometry\": \n",
    "    { \n",
    "    \"type\": \"Polygon\", \n",
    "    \"coordinates\": \n",
    "        [ \n",
    "            [ \n",
    "                [ 4.523021985967453, 51.92077657547447 ], [ 4.523023183709508, 51.92077627866481 ], [ 4.523040390046194, 51.920772027672697 ], [ 4.523103796801922, 51.920756341137583 ], [ 4.523110939297128, 51.920754577928818 ], [ 4.523121002604995, 51.920752117095859 ], [ 4.523129488534569, 51.920750040168969 ], [ 4.523147585975468, 51.920745562005905 ], [ 4.523164398117351, 51.920741397984926 ], [ 4.523154372061224, 51.920726043511173 ], [ 4.523159455101577, 51.920724786504664 ], [ 4.523215134585583, 51.920711029608057 ], [ 4.523233205409467, 51.920738937487208 ], [ 4.523214216683051, 51.920743651806738 ], [ 4.523236092738546, 51.920777789851357 ], [ 4.523159701695709, 51.92079664390733 ] , [ 4.523190331961749, 51.9208442394592 ],   [ 4.523177333629125, 51.920847379841504 ], [ 4.523184108253133, 51.920857946406997 ], [ 4.523089750887747, 51.920881252584785 ], [ 4.523021985967453, 51.92077657547447 ] \n",
    "            ] \n",
    "        ] \n",
    "    } \n",
    "}\n",
    "]\n",
    "}\n",
    "```\n",
    "\n",
    "we need to read through the json file, extract the properties and store in the above format \n",
    "\n",
    "so the `features` key will need to be made containing a dict per building\n",
    "\n",
    "dict will have the keys:\n",
    "\n",
    "type, properties, geometry\n",
    "\n"
   ]
  },
  {
   "cell_type": "code",
   "execution_count": null,
   "metadata": {},
   "outputs": [],
   "source": [
    "jsonStr = {\n",
    "            \"type\": \"FeatureCollection\",\n",
    "            \"name\": \"fakeBuildingDataGeoJSON4326\",\n",
    "            \"crs\": { \"type\": \"name\", \"properties\": { \"name\": \"urn:ogc:def:crs:OGC:1.3:CRS84\" } },\n",
    "            \"features\": []\n",
    "        }"
   ]
  },
  {
   "cell_type": "code",
   "execution_count": null,
   "metadata": {},
   "outputs": [],
   "source": [
    "# loop through the json\n",
    "for idx in range(len(parsed)):\n",
    "    # print(parsed[idx].keys())\n",
    "    buildingID = parsed[idx]['id']\n",
    "    buildingYear = parsed[idx]['year']\n",
    "    buildingEnergyUsage = parsed[idx]['usage']\n",
    "    buildingGeom = parsed[idx]['geometry']\n",
    "    \n",
    "    # build dic of feature\n",
    "    thisFeaturesDict={ \"type\": \"Feature\",\n",
    "                        \"properties\": {\n",
    "                                        \"pandID\":buildingID , \n",
    "                                        \"year\":buildingYear, \n",
    "                                        \"energyUsageMonthly\":buildingEnergyUsage\n",
    "                                      },\n",
    "                        \"geometry\": buildingGeom\n",
    "                    }#end this feature dict\n",
    "\n",
    "    # push feature dic to list of features in the geojson\n",
    "    try:    \n",
    "        featureList = jsonStr[\"features\"].copy()\n",
    "        featureList.append(thisFeaturesDict)\n",
    "        jsonStr[\"features\"] = featureList\n",
    "    except:\n",
    "        jsonStr[\"features\"] = [thisFeaturesDict]\n",
    "\n",
    "with open('./fakeBuildingDataGeoJSON4326.geojson', 'w') as fp:\n",
    "    json.dump(jsonStr, fp)\n",
    "# parsed[2]['geometry']"
   ]
  },
  {
   "cell_type": "code",
   "execution_count": null,
   "metadata": {},
   "outputs": [],
   "source": [
    "jsonStr"
   ]
  }
 ],
 "metadata": {
  "kernelspec": {
   "display_name": "Python 3.9.7 ('pyGIS')",
   "language": "python",
   "name": "python3"
  },
  "language_info": {
   "codemirror_mode": {
    "name": "ipython",
    "version": 3
   },
   "file_extension": ".py",
   "mimetype": "text/x-python",
   "name": "python",
   "nbconvert_exporter": "python",
   "pygments_lexer": "ipython3",
   "version": "3.9.7"
  },
  "orig_nbformat": 4,
  "vscode": {
   "interpreter": {
    "hash": "b480b38962bb8b884b1c9a96bade1919f562f5c540ebe3b12193ce1e16dfdc9f"
   }
  }
 },
 "nbformat": 4,
 "nbformat_minor": 2
}
