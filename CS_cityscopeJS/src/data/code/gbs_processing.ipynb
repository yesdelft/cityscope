{
 "cells": [
  {
   "cell_type": "code",
   "execution_count": null,
   "metadata": {},
   "outputs": [],
   "source": [
    "import pandas as pd\n",
    "\n",
    "# Plotting GBS data \n",
    "# https://stackoverflow.com/questions/55776092/plotting-a-graph-by-month-wise-in-pandas\n",
    "# https://stackoverflow.com/questions/61443949/python-pandas-group-by-then-plot-by-category\n",
    "import re\n",
    "\n",
    "gbs_val_descriptions = {\n",
    "    \"01FLOW\":\"airflow-sensor\",\n",
    "    \"01RS-CV\":\"regelsign-verwarming\",\n",
    "    \"01RS-GKW\":\"regelsign-koeling\",\n",
    "    \"01RS-VAV\":\"regelsign-vav\", # Variable air volumewith \n",
    "    \"01PIR\":\"pir\", # Infrared sensor\n",
    "    \"01RM\":\"ruimte-modus\",\n",
    "    \"01RMT\":\"co2-ruimte\",\n",
    "    \"01SP\":\"setpoint-co2\",\n",
    "    # OAT\n",
    "    \"TT_01BT\": \"buiten-temperatuur\",\n",
    "    \"MT_01RV\": \"buiten-rv\",\n",
    "    # LBK\n",
    "    \"VA_01PC\": \"plant-code\",\n",
    "    # LBK 2 excl\n",
    "    \"PT_01SP\": \"inblaasdruk-setpoint\",\n",
    "    \"PT_01IL\": \"inblaasdruk\",\n",
    "    \"TT_03SPB\": \"inblaastemperatuur-setpoint-berekend\",\n",
    "    \"TT_03IL\": \"inblaastemperatuur\",\n",
    "    \"TT_04RL\": \"retourlucht-temperatuur\",\n",
    "    \"WW_01RS\": \"warmtewiel-sturing\",\n",
    "    \"CV_01RS\": \"regelafsluiter-verwarmer\",\n",
    "    \"CV_02RS\": \"regelafsluiter-koeler\",\n",
    "}\n",
    "\n",
    "to_drop = []\n",
    "# file = \"2022w18_GBS_trend_Y03-08.xlsx\"\n",
    "# to_drop = [\"Y03VAV0339TE-01BSP.PointValue\", 'Y03VAV0339TE-01CPA.PointValue', 'Y03VAV0339TE-01RMT.PointValue', 'Y03VAV0339TE-01SP.PointValue']\n",
    "file = \"2022w18-GBS_trend_OAT .xlsx\"\n",
    "# file = \"2022w18-GBS_trend-Y-lbk1.xlsx\"\n",
    "\n",
    "gbs = pd.read_excel(f\"../EUR/{file}\", parse_dates=[[\"Date\", \"Time\"]], index_col=0, sheet_name=list(range(4)))\n",
    "gbs = pd.concat(gbs.values())\n",
    "print(f\"Reading in {file}\\nColumns: {list(gbs.columns)}\\nDropping: {to_drop}\")\n",
    "gbs.drop(to_drop, axis=1, inplace=True)\n",
    "def extractFeature(id):\n",
    "    if \"_\" in id:\n",
    "        match = re.findall(r'[0-9]([^\\d]*?_.*)\\..*', id)[0]\n",
    "    else:\n",
    "        match = re.findall(r'-(.*)\\..*', id)[0]\n",
    "    feature = gbs_val_descriptions[match]\n",
    "    return feature\n",
    "\n",
    "gbs = gbs.rename(columns=extractFeature)\n",
    "gbs.index.name = \"time\"\n",
    "\n",
    "date_range = str(gbs.index.min()) + ' to ' +str(gbs.index.max())\n",
    "print(f\"Range of dates is: {date_range}\")\n",
    "# What is BSP and CPA?\n",
    "# gbs.drop([\"plant-code\"], axis=1, inplace=True)\n",
    "gbs = gbs.replace({',': '.'}, regex=True)\n",
    "print(gbs.astype(float).describe())\n",
    "gbs.head(20)"
   ]
  },
  {
   "cell_type": "code",
   "execution_count": null,
   "metadata": {},
   "outputs": [],
   "source": [
    "import matplotlib\n",
    "import matplotlib.pyplot as plt\n",
    "import matplotlib.patches as mpatches\n",
    "\n",
    "fig, ax = plt.subplots()\n",
    "\n",
    "gbs_co2 = gbs[[\"co2-ruimte\", \"setpoint-co2\", \"pir\"]]\n",
    "gbs_co2.plot(ax=ax)\n",
    "\n",
    "# Why is pir 0 even during spikes?"
   ]
  }
 ],
 "metadata": {
  "interpreter": {
   "hash": "bf43a2211f5453fe46be58dc81d41bfdffdcca12e789a24e79b6c0b8836fefbb"
  },
  "kernelspec": {
   "display_name": "Python 3.9.4 ('smart-campus')",
   "language": "python",
   "name": "python3"
  },
  "language_info": {
   "codemirror_mode": {
    "name": "ipython",
    "version": 3
   },
   "file_extension": ".py",
   "mimetype": "text/x-python",
   "name": "python",
   "nbconvert_exporter": "python",
   "pygments_lexer": "ipython3",
   "version": "3.9.4"
  },
  "orig_nbformat": 4
 },
 "nbformat": 4,
 "nbformat_minor": 2
}
