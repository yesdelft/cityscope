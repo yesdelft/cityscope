{
    "cells": [
        {
            "cell_type": "code",
            "execution_count": 2,
            "source": [
                "from brix import Handler"
            ],
            "outputs": [],
            "metadata": {}
        },
        {
            "cell_type": "code",
            "execution_count": 3,
            "source": [
                "H = Handler('yourtest',quietly=False)\r\n",
                "\r\n",
                "geogrid_data = H.get_geogrid_data()\r\n",
                "# print(geogrid_data)\r\n",
                "# print(H.get_geogrid_data(include_geometries=True))\r\n",
                "\r\n",
                "# print(geogrid_data.get_geogrid_props())\r\n",
                "\r\n",
                "# geogrid_data = H.get_geogrid_data()\r\n",
                "# print(geogrid_data.as_df())\r\n",
                "\r\n"
            ],
            "outputs": [
                {
                    "output_type": "stream",
                    "name": "stdout",
                    "text": [
                        "https://cityio.media.mit.edu/api/tables/list/ Attempt: 0\n",
                        "https://cityio.media.mit.edu/api/table/yourtest/meta/hashes/ Attempt: 0\n",
                        "https://cityio.media.mit.edu/api/table/yourtest/GEOGRIDDATA/ Attempt: 0\n",
                        "https://cityio.media.mit.edu/api/table/yourtest/GEOGRID/ Attempt: 0\n"
                    ]
                },
                {
                    "output_type": "stream",
                    "name": "stderr",
                    "text": [
                        "C:\\Users\\Ameno\\Anaconda3\\envs\\scope\\lib\\site-packages\\brix\\classes.py:981: FutureWarning: In a future version of pandas all arguments of DataFrame.drop except for the argument 'labels' will be keyword-only\n",
                        "  geos = gpd.GeoDataFrame(geos.drop('geometry',1),geometry=geos['geometry'].apply(lambda x: shape(x))) # no crs to avoid warning\n"
                    ]
                }
            ],
            "metadata": {}
        },
        {
            "cell_type": "code",
            "execution_count": 6,
            "source": [
                "geogrid_data = H.get_geogrid_data()\r\n",
                "geogrid_data = geogrid_data.remove_noninteractive()\r\n",
                "\r\n",
                "# print(geogrid_data)\r\n",
                "# print(geogrid_data.as_df())\r\n",
                "# I.return_indicator(geogrid_data)\r\n",
                "geogrid_data_including = H.get_geogrid_data(include_geometries=True, with_properties=True)\r\n",
                "print(geogrid_data_including)"
            ],
            "outputs": [
                {
                    "output_type": "stream",
                    "name": "stdout",
                    "text": [
                        "https://cityio.media.mit.edu/api/table/yourtest/GEOGRIDDATA/ Attempt: 0\n",
                        "https://cityio.media.mit.edu/api/table/yourtest/GEOGRIDDATA/ Attempt: 0\n",
                        "[{'color': [179, 39, 69], 'height': 7, 'id': 0, 'interactive': 'Web', 'name': 'Institutional', 'geometry': {'coordinates': [[[-71.0854323, 42.36646549999987], [-71.08543229999576, 42.366015361504274], [-71.0848252954214, 42.36601535990573], [-71.08482529110589, 42.36646549840132], [-71.0854323, 42.36646549999987]]], 'type': 'Polygon'}, 'properties': {'LBCS': {'6700': 0.3, '2310': 0.21, '4100': 0.49}, 'NAICS': {'7121': 0.29999999999999993, '6111': 0.20999999999999994, '6113': 0.06999999999999999, '6115': 0.06999999999999999, '6116': 0.13999999999999999, '8133': 0.10499999999999997, '8134': 0.10499999999999997}, 'color': '#B32745', 'description': 'description for: Institutional', 'height': 4, 'interactive': 'Web', 'name': 'Institutional', 'tableData': {'id': 0}}}, {'color': [255, 82, 119], 'height': 7, 'id': 1, 'interactive': 'Web', 'name': 'Office', 'geometry': {'coordinates': [[[-71.08482529110589, 42.36646549840132], [-71.0848252954214, 42.36601535990573], [-71.0842182908471, 42.36601535510377], [-71.08421828221185, 42.36646549359935], [-71.08482529110589, 42.36646549840132]]], 'type': 'Polygon'}, 'properties': {'LBCS': {'2310': 1.0}, 'NAICS': {'5400': 1.0}, 'color': '#FF5277', 'description': 'description for: Office', 'height': 10, 'interactive': 'Web', 'name': 'Office', 'tableData': {'id': 1}}}, {'color': [255, 82, 119], 'height': 7, 'id': 2, 'interactive': 'Web', 'name': 'Office', 'geometry': {'coordinates': [[[-71.08421828221185, 42.36646549359935], [-71.0842182908471, 42.36601535510377], [-71.08361128627293, 42.36601534709846], [-71.08361127331793, 42.36646548559397], [-71.08421828221185, 42.36646549359935]]], 'type': 'Polygon'}, 'properties': {'LBCS': {'2310': 1.0}, 'NAICS': {'5400': 1.0}, 'color': '#FF5277', 'description': 'description for: Office', 'height': 10, 'interactive': 'Web', 'name': 'Office', 'tableData': {'id': 1}}}, {'color': [255, 82, 119], 'height': 7, 'id': 3, 'interactive': 'Web', 'name': 'Office', 'geometry': {'coordinates': [[[-71.08361127331793, 42.36646548559397], [-71.08361128627293, 42.36601534709846], [-71.08300428169895, 42.36601533588975], [-71.08300426442419, 42.36646547438519], [-71.08361127331793, 42.36646548559397]]], 'type': 'Polygon'}, 'properties': {'LBCS': {'2310': 1.0}, 'NAICS': {'5400': 1.0}, 'color': '#FF5277', 'description': 'description for: Office', 'height': 10, 'interactive': 'Web', 'name': 'Office', 'tableData': {'id': 1}}}, {'color': [255, 82, 119], 'height': 7, 'id': 4, 'interactive': 'Web', 'name': 'Office', 'geometry': {'coordinates': [[[-71.08543229999576, 42.366015361504274], [-71.08543229999151, 42.36556522296302], [-71.08482529973685, 42.36556522136448], [-71.0848252954214, 42.36601535990573], [-71.08543229999576, 42.366015361504274]]], 'type': 'Polygon'}, 'properties': {'LBCS': {'2310': 1.0}, 'NAICS': {'5400': 1.0}, 'color': '#FF5277', 'description': 'description for: Office', 'height': 10, 'interactive': 'Web', 'name': 'Office', 'tableData': {'id': 1}}}, {'color': [255, 82, 119], 'height': 7, 'id': 5, 'interactive': 'Web', 'name': 'Office', 'geometry': {'coordinates': [[[-71.0848252954214, 42.36601535990573], [-71.08482529973685, 42.36556522136448], [-71.08421829948223, 42.365565216562565], [-71.0842182908471, 42.36601535510377], [-71.0848252954214, 42.36601535990573]]], 'type': 'Polygon'}, 'properties': {'LBCS': {'2310': 1.0}, 'NAICS': {'5400': 1.0}, 'color': '#FF5277', 'description': 'description for: Office', 'height': 10, 'interactive': 'Web', 'name': 'Office', 'tableData': {'id': 1}}}, {'color': [255, 82, 119], 'height': 7, 'id': 6, 'interactive': 'Web', 'name': 'Office', 'geometry': {'coordinates': [[[-71.0842182908471, 42.36601535510377], [-71.08421829948223, 42.365565216562565], [-71.08361129922775, 42.3655652085573], [-71.08361128627293, 42.36601534709846], [-71.0842182908471, 42.36601535510377]]], 'type': 'Polygon'}, 'properties': {'LBCS': {'2310': 1.0}, 'NAICS': {'5400': 1.0}, 'color': '#FF5277', 'description': 'description for: Office', 'height': 10, 'interactive': 'Web', 'name': 'Office', 'tableData': {'id': 1}}}, {'color': [255, 82, 119], 'height': 3, 'id': 7, 'interactive': 'Web', 'name': 'Office', 'geometry': {'coordinates': [[[-71.08361128627293, 42.36601534709846], [-71.08361129922775, 42.3655652085573], [-71.08300429897344, 42.36556519734867], [-71.08300428169895, 42.36601533588975], [-71.08361128627293, 42.36601534709846]]], 'type': 'Polygon'}, 'properties': {'LBCS': {'2310': 1.0}, 'NAICS': {'5400': 1.0}, 'color': '#FF5277', 'description': 'description for: Office', 'height': 10, 'interactive': 'Web', 'name': 'Office', 'tableData': {'id': 1}}}, {'color': [255, 82, 119], 'height': 13, 'id': 8, 'interactive': 'Web', 'name': 'Office', 'geometry': {'coordinates': [[[-71.08543229999151, 42.36556522296302], [-71.08543229998727, 42.36511508437615], [-71.08482530405223, 42.36511508277761], [-71.08482529973685, 42.36556522136448], [-71.08543229999151, 42.36556522296302]]], 'type': 'Polygon'}, 'properties': {'LBCS': {'2310': 1.0}, 'NAICS': {'5400': 1.0}, 'color': '#FF5277', 'description': 'description for: Office', 'height': 10, 'interactive': 'Web', 'name': 'Office', 'tableData': {'id': 1}}}, {'color': [255, 82, 119], 'height': 13, 'id': 9, 'interactive': 'Web', 'name': 'Office', 'geometry': {'coordinates': [[[-71.08482529973685, 42.36556522136448], [-71.08482530405223, 42.36511508277761], [-71.08421830811724, 42.36511507797573], [-71.08421829948223, 42.365565216562565], [-71.08482529973685, 42.36556522136448]]], 'type': 'Polygon'}, 'properties': {'LBCS': {'2310': 1.0}, 'NAICS': {'5400': 1.0}, 'color': '#FF5277', 'description': 'description for: Office', 'height': 10, 'interactive': 'Web', 'name': 'Office', 'tableData': {'id': 1}}}, {'color': [255, 82, 119], 'height': 13, 'id': 10, 'interactive': 'Web', 'name': 'Office', 'geometry': {'coordinates': [[[-71.08421829948223, 42.365565216562565], [-71.08421830811724, 42.36511507797573], [-71.08361131218238, 42.365115069970514], [-71.08361129922775, 42.3655652085573], [-71.08421829948223, 42.365565216562565]]], 'type': 'Polygon'}, 'properties': {'LBCS': {'2310': 1.0}, 'NAICS': {'5400': 1.0}, 'color': '#FF5277', 'description': 'description for: Office', 'height': 10, 'interactive': 'Web', 'name': 'Office', 'tableData': {'id': 1}}}, {'color': [255, 82, 119], 'height': 7, 'id': 11, 'interactive': 'Web', 'name': 'Office', 'geometry': {'coordinates': [[[-71.08361129922775, 42.3655652085573], [-71.08361131218238, 42.365115069970514], [-71.08300431624771, 42.365115058761965], [-71.08300429897345, 42.36556519734867], [-71.08361129922775, 42.3655652085573]]], 'type': 'Polygon'}, 'properties': {'LBCS': {'2310': 1.0}, 'NAICS': {'5400': 1.0}, 'color': '#FF5277', 'description': 'description for: Office', 'height': 10, 'interactive': 'Web', 'name': 'Office', 'tableData': {'id': 1}}}, {'color': [255, 82, 119], 'height': 7, 'id': 12, 'interactive': 'Web', 'name': 'Office', 'geometry': {'coordinates': [[[-71.08543229998727, 42.36511508437615], [-71.08543229998304, 42.364664945743655], [-71.08482530836756, 42.364664944145126], [-71.08482530405223, 42.36511508277761], [-71.08543229998727, 42.36511508437615]]], 'type': 'Polygon'}, 'properties': {'LBCS': {'2310': 1.0}, 'NAICS': {'5400': 1.0}, 'color': '#FF5277', 'description': 'description for: Office', 'height': 10, 'interactive': 'Web', 'name': 'Office', 'tableData': {'id': 1}}}, {'color': [255, 82, 119], 'height': 13, 'id': 13, 'interactive': 'Web', 'name': 'Office', 'geometry': {'coordinates': [[[-71.08482530405223, 42.36511508277761], [-71.08482530836756, 42.364664944145126], [-71.08421831675213, 42.36466493934329], [-71.08421830811724, 42.36511507797573], [-71.08482530405223, 42.36511508277761]]], 'type': 'Polygon'}, 'properties': {'LBCS': {'2310': 1.0}, 'NAICS': {'5400': 1.0}, 'color': '#FF5277', 'description': 'description for: Office', 'height': 10, 'interactive': 'Web', 'name': 'Office', 'tableData': {'id': 1}}}, {'color': [255, 82, 119], 'height': 13, 'id': 14, 'interactive': 'Web', 'name': 'Office', 'geometry': {'coordinates': [[[-71.08421830811724, 42.36511507797573], [-71.08421831675213, 42.36466493934329], [-71.08361132513683, 42.36466493133815], [-71.08361131218238, 42.36511506997053], [-71.08421830811724, 42.36511507797573]]], 'type': 'Polygon'}, 'properties': {'LBCS': {'2310': 1.0}, 'NAICS': {'5400': 1.0}, 'color': '#FF5277', 'description': 'description for: Office', 'height': 10, 'interactive': 'Web', 'name': 'Office', 'tableData': {'id': 1}}}, {'color': [255, 82, 119], 'height': 7, 'id': 15, 'interactive': 'Web', 'name': 'Office', 'geometry': {'coordinates': [[[-71.08361131218238, 42.36511506997053], [-71.08361132513683, 42.36466493133815], [-71.08300433352171, 42.36466492012967], [-71.08300431624771, 42.365115058761965], [-71.08361131218238, 42.36511506997053]]], 'type': 'Polygon'}, 'properties': {'LBCS': {'2310': 1.0}, 'NAICS': {'5400': 1.0}, 'color': '#FF5277', 'description': 'description for: Office', 'height': 10, 'interactive': 'Web', 'name': 'Office', 'tableData': {'id': 1}}}]\n"
                    ]
                }
            ],
            "metadata": {}
        },
        {
            "cell_type": "code",
            "execution_count": 15,
            "source": [
                "from brix import Indicator\r\n",
                "from statistics import mean\r\n",
                "class MyIndicator(Indicator):\r\n",
                "        '''\r\n",
                "        Write a description for your indicator here.\r\n",
                "        '''\r\n",
                "        def setup(self):\r\n",
                "                '''\r\n",
                "                Think of this as your __init__.\r\n",
                "                Here you will define the properties of your indicator.\r\n",
                "                Although there are no required properties, be nice and give your indicator a name.\r\n",
                "                '''\r\n",
                "                self.name = 'my numeric'\r\n",
                "                self.requires_geometry= True\r\n",
                "                self.requires_geogrid_props = True\r\n",
                "                self.indicator_type = 'numeric'\r\n",
                "                self.viz_type = 'radar'\r\n",
                "                \r\n",
                "        def load_module(self):\r\n",
                "                '''\r\n",
                "                This function is not strictly necessary, but we recommend that you define it if you want to load something from memory. It will make your code more readable.\r\n",
                "                All data loading actions should go here.\r\n",
                "                '''\r\n",
                "                pass\r\n",
                "\r\n",
                "        def return_indicator(self, geogrid_data):\r\n",
                "                '''\r\n",
                "                This is the main course of your indicator.\r\n",
                "                This function takes in `geogrid_data` and returns the value of your indicator.\r\n",
                "                The library is flexible enough to handle indicators that return a number or a dictionary.\r\n",
                "                '''\r\n",
                "                return 10\r\n",
                "\r\n",
                "import random\r\n",
                "class RandomFlag(Indicator):\r\n",
                "        '''\r\n",
                "        Example of textual indicator that annotates two random cells.\r\n",
                "        '''\r\n",
                "        def setup(self):\r\n",
                "                self.indicator_type = 'textual'\r\n",
                "                self.requires_geometry = True\r\n",
                "                self.name = 'Yes/No'\r\n",
                "\r\n",
                "        def return_indicator(self, geogrid_data):\r\n",
                "                cells = random.sample(geogrid_data,2)\r\n",
                "                out = [\r\n",
                "                        {'id':cells[0]['id'],'info':'2'},\r\n",
                "                        {'id':cells[1]['id'],'info':'1'},\r\n",
                "                ]\r\n",
                "                return out\r\n",
                "\r\n",
                "class Noise(Indicator):\r\n",
                "        '''\r\n",
                "        Example of Noise heatmap indicator for points centered in each grid cell.\r\n",
                "\r\n",
                "        Note that this class requires the geometry of the table as input, which is why it sets:\r\n",
                "        requires_geometry = True\r\n",
                "        in the setup.\r\n",
                "\r\n",
                "        '''\r\n",
                "        def setup(self):\r\n",
                "                self.indicator_type = 'heatmap'\r\n",
                "                self.requires_geometry = True\r\n",
                "                self.name = \"hot\"\r\n",
                "        def load_module(self):\r\n",
                "                pass\r\n",
                "\r\n",
                "        def return_indicator(self, geogrid_data):\r\n",
                "                features = []\r\n",
                "                for cell in geogrid_data:\r\n",
                "                        feature = {}\r\n",
                "                        lat,lon = zip(*cell['geometry']['coordinates'][0])\r\n",
                "                        lat,lon = mean(lat),mean(lon)\r\n",
                "                        feature['geometry'] = {'coordinates': [lat,lon],'type': 'Point'}\r\n",
                "                        # feature['properties'] = {self.name:random()}\r\n",
                "                        feature['properties'] = {self.name: random.randint(0, 20)}\r\n",
                "                        features.append(feature)\r\n",
                "                out = {'type':'FeatureCollection','features':features}\r\n",
                "                return out\r\n",
                "test = Noise()\r\n",
                "test.return_indicator(geogrid_data_including)\r\n"
            ],
            "outputs": [
                {
                    "output_type": "execute_result",
                    "data": {
                        "text/plain": [
                            "{'type': 'FeatureCollection',\n",
                            " 'features': [{'geometry': {'coordinates': [-71.08518949730461,\n",
                            "     42.36628544396221],\n",
                            "    'type': 'Point'},\n",
                            "   'properties': {'hot': 19}},\n",
                            "  {'geometry': {'coordinates': [-71.08458249013843, 42.3662854410823],\n",
                            "    'type': 'Point'},\n",
                            "   'properties': {'hot': 14}},\n",
                            "  {'geometry': {'coordinates': [-71.08397548297233, 42.36628543499898],\n",
                            "    'type': 'Point'},\n",
                            "   'properties': {'hot': 11}},\n",
                            "  {'geometry': {'coordinates': [-71.08336847580638, 42.36628542571227],\n",
                            "    'type': 'Point'},\n",
                            "   'properties': {'hot': 17}},\n",
                            "  {'geometry': {'coordinates': [-71.08518949902826, 42.36583530544836],\n",
                            "    'type': 'Point'},\n",
                            "   'properties': {'hot': 13}},\n",
                            "  {'geometry': {'coordinates': [-71.0845824961818, 42.365835302568456],\n",
                            "    'type': 'Point'},\n",
                            "   'properties': {'hot': 6}},\n",
                            "  {'geometry': {'coordinates': [-71.08397549333543, 42.36583529648517],\n",
                            "    'type': 'Point'},\n",
                            "   'properties': {'hot': 6}},\n",
                            "  {'geometry': {'coordinates': [-71.08336849048919, 42.36583528719853],\n",
                            "    'type': 'Point'},\n",
                            "   'properties': {'hot': 12}},\n",
                            "  {'geometry': {'coordinates': [-71.08518950075188, 42.365385166888856],\n",
                            "    'type': 'Point'},\n",
                            "   'properties': {'hot': 9}},\n",
                            "  {'geometry': {'coordinates': [-71.08458250222508, 42.36538516400897],\n",
                            "    'type': 'Point'},\n",
                            "   'properties': {'hot': 5}},\n",
                            "  {'geometry': {'coordinates': [-71.08397550369837, 42.365385157925736],\n",
                            "    'type': 'Point'},\n",
                            "   'properties': {'hot': 3}},\n",
                            "  {'geometry': {'coordinates': [-71.0833685051718, 42.36538514863915],\n",
                            "    'type': 'Point'},\n",
                            "   'properties': {'hot': 0}},\n",
                            "  {'geometry': {'coordinates': [-71.08518950247547, 42.36493502828374],\n",
                            "    'type': 'Point'},\n",
                            "   'properties': {'hot': 20}},\n",
                            "  {'geometry': {'coordinates': [-71.08458250826828, 42.364935025403874],\n",
                            "    'type': 'Point'},\n",
                            "   'properties': {'hot': 9}},\n",
                            "  {'geometry': {'coordinates': [-71.08397551406117, 42.36493501932068],\n",
                            "    'type': 'Point'},\n",
                            "   'properties': {'hot': 12}},\n",
                            "  {'geometry': {'coordinates': [-71.0833685198542, 42.364935010034166],\n",
                            "    'type': 'Point'},\n",
                            "   'properties': {'hot': 14}}]}"
                        ]
                    },
                    "metadata": {},
                    "execution_count": 15
                }
            ],
            "metadata": {}
        },
        {
            "cell_type": "code",
            "execution_count": 16,
            "source": [
                "# from brix import Handler\r\n",
                "# from myindicators import MyIndicator\r\n",
                "\r\n",
                "dens = MyIndicator()\r\n",
                "randomFlag = RandomFlag()\r\n",
                "heat = Noise()\r\n",
                "H = Handler('yourtest', quietly=False)\r\n",
                "H.add_indicators([\r\n",
                "        dens,\r\n",
                "        randomFlag,\r\n",
                "        heat\r\n",
                "])\r\n",
                "print(H.list_indicators())\r\n",
                "print(H.return_indicator(\"my numeric\"))\r\n",
                "H.listen()"
            ],
            "outputs": [
                {
                    "output_type": "stream",
                    "name": "stdout",
                    "text": [
                        "https://cityio.media.mit.edu/api/tables/list/ Attempt: 0\n",
                        "https://cityio.media.mit.edu/api/table/yourtest/meta/hashes/ Attempt: 0\n",
                        "https://cityio.media.mit.edu/api/table/yourtest/GEOGRIDDATA/ Attempt: 0\n",
                        "https://cityio.media.mit.edu/api/table/yourtest/GEOGRID/ Attempt: 0\n",
                        "https://cityio.media.mit.edu/api/table/yourtest/GEOGRIDDATA/ Attempt: 0\n",
                        "https://cityio.media.mit.edu/api/table/yourtest/GEOGRIDDATA/ Attempt: 0\n",
                        "['my numeric', 'Yes/No', 'hot']\n",
                        "https://cityio.media.mit.edu/api/table/yourtest/GEOGRIDDATA/ Attempt: 0\n"
                    ]
                },
                {
                    "output_type": "error",
                    "ename": "KeyError",
                    "evalue": "'numeric'",
                    "traceback": [
                        "\u001b[1;31m---------------------------------------------------------------------------\u001b[0m",
                        "\u001b[1;31mKeyError\u001b[0m                                  Traceback (most recent call last)",
                        "\u001b[1;32m~\\AppData\\Local\\Temp/ipykernel_13388/2453626061.py\u001b[0m in \u001b[0;36m<module>\u001b[1;34m\u001b[0m\n\u001b[0;32m     12\u001b[0m ])\n\u001b[0;32m     13\u001b[0m \u001b[0mprint\u001b[0m\u001b[1;33m(\u001b[0m\u001b[0mH\u001b[0m\u001b[1;33m.\u001b[0m\u001b[0mlist_indicators\u001b[0m\u001b[1;33m(\u001b[0m\u001b[1;33m)\u001b[0m\u001b[1;33m)\u001b[0m\u001b[1;33m\u001b[0m\u001b[1;33m\u001b[0m\u001b[0m\n\u001b[1;32m---> 14\u001b[1;33m \u001b[0mprint\u001b[0m\u001b[1;33m(\u001b[0m\u001b[0mH\u001b[0m\u001b[1;33m.\u001b[0m\u001b[0mreturn_indicator\u001b[0m\u001b[1;33m(\u001b[0m\u001b[1;34m\"numeric\"\u001b[0m\u001b[1;33m)\u001b[0m\u001b[1;33m)\u001b[0m\u001b[1;33m\u001b[0m\u001b[1;33m\u001b[0m\u001b[0m\n\u001b[0m\u001b[0;32m     15\u001b[0m \u001b[0mH\u001b[0m\u001b[1;33m.\u001b[0m\u001b[0mlisten\u001b[0m\u001b[1;33m(\u001b[0m\u001b[1;33m)\u001b[0m\u001b[1;33m\u001b[0m\u001b[1;33m\u001b[0m\u001b[0m\n",
                        "\u001b[1;32m~\\Anaconda3\\envs\\scope\\lib\\site-packages\\brix\\classes.py\u001b[0m in \u001b[0;36mreturn_indicator\u001b[1;34m(self, indicator_name)\u001b[0m\n\u001b[0;32m    756\u001b[0m \t\t'''\n\u001b[0;32m    757\u001b[0m                 \u001b[0mgeogrid_data\u001b[0m \u001b[1;33m=\u001b[0m \u001b[0mself\u001b[0m\u001b[1;33m.\u001b[0m\u001b[0m_get_grid_data\u001b[0m\u001b[1;33m(\u001b[0m\u001b[1;33m)\u001b[0m\u001b[1;33m\u001b[0m\u001b[1;33m\u001b[0m\u001b[0m\n\u001b[1;32m--> 758\u001b[1;33m                 \u001b[0mI\u001b[0m \u001b[1;33m=\u001b[0m \u001b[0mself\u001b[0m\u001b[1;33m.\u001b[0m\u001b[0mindicators\u001b[0m\u001b[1;33m[\u001b[0m\u001b[0mindicator_name\u001b[0m\u001b[1;33m]\u001b[0m\u001b[1;33m\u001b[0m\u001b[1;33m\u001b[0m\u001b[0m\n\u001b[0m\u001b[0;32m    759\u001b[0m                 \u001b[1;32mif\u001b[0m \u001b[0mI\u001b[0m\u001b[1;33m.\u001b[0m\u001b[0mis_composite\u001b[0m\u001b[1;33m:\u001b[0m\u001b[1;33m\u001b[0m\u001b[1;33m\u001b[0m\u001b[0m\n\u001b[0;32m    760\u001b[0m                         \u001b[0mindicator_values\u001b[0m \u001b[1;33m=\u001b[0m \u001b[0mself\u001b[0m\u001b[1;33m.\u001b[0m\u001b[0mget_indicator_values\u001b[0m\u001b[1;33m(\u001b[0m\u001b[0mgeogrid_data\u001b[0m\u001b[1;33m=\u001b[0m\u001b[0mgeogrid_data\u001b[0m\u001b[1;33m,\u001b[0m\u001b[0minclude_composite\u001b[0m\u001b[1;33m=\u001b[0m\u001b[1;32mFalse\u001b[0m\u001b[1;33m)\u001b[0m\u001b[1;33m\u001b[0m\u001b[1;33m\u001b[0m\u001b[0m\n",
                        "\u001b[1;31mKeyError\u001b[0m: 'numeric'"
                    ]
                }
            ],
            "metadata": {}
        },
        {
            "cell_type": "code",
            "execution_count": 7,
            "source": [
                "def add_height(geogrid_data, levels=1):\r\n",
                "        for cell in geogrid_data:\r\n",
                "                cell['height'] += levels\r\n",
                "        return geogrid_data\r\n",
                "\r\n",
                "def update_g(geogrid_data):\r\n",
                "        for cell in geogrid_data:\r\n",
                "                cell['name'] = 'Institutional'\r\n",
                "        return geogrid_data\r\n"
            ],
            "outputs": [],
            "metadata": {}
        },
        {
            "cell_type": "code",
            "execution_count": null,
            "source": [
                "# H.update_geogrid_data(add_height,levels=3)\r\n",
                "H.add_geogrid_data_update_function(update_g)\r\n",
                "H.listen()"
            ],
            "outputs": [],
            "metadata": {}
        },
        {
            "cell_type": "code",
            "execution_count": 4,
            "source": [
                "\r\n",
                "\r\n",
                "\r\n",
                "\r\n",
                "types = {\r\n",
                "    -1:\"Invalid\", \r\n",
                "    0:\"Institutional\", \r\n",
                "    1:\"Office\", \r\n",
                "    2:\"Park\",  \r\n",
                "}\r\n"
            ],
            "outputs": [],
            "metadata": {}
        },
        {
            "cell_type": "code",
            "execution_count": 14,
            "source": [
                "import time\r\n",
                "import json\r\n",
                "scanned = [[0, 0], [1, 0], [1, 0], [1, 0], [1, 0], [-1, -1], [1, 0], [1, 0], [1, 0], [1, 0], [1, 0], [1, 0], [1, 0], [1, 0], [1, 0], [1, 0], [1, 0], [1, 0], [1, 0], [1, 0], [1, 0], [1, 0], [1, 0], [1, 0], [1, 0]]\r\n",
                "def perform_update():       \r\n",
                "        H.update_geogrid_data(update_types)\r\n",
                "def update_types(geogrid_data):\r\n",
                "        with open('CS_CityScoPy/scanner_data.txt') as json_file:\r\n",
                "                data = json.load(json_file)\r\n",
                "        scanned = data\r\n",
                "       \r\n",
                "        print(f\"Updating grid to \\n{scanned}\")\r\n",
                "        # print(geogrid_data)\r\n",
                "        for i, cell in enumerate(geogrid_data):\r\n",
                "                cell['name'] = 'Institutional'\r\n",
                "                id = cell[\"id\"]\r\n",
                "                scanned_type = types[scanned[i][0]]\r\n",
                "                if scanned_type != \"Invalid\":\r\n",
                "                        cell['name'] = scanned_type\r\n",
                "                # print(f\"i:{i}, id:{id}\")\r\n",
                "        return geogrid_data\r\n",
                "\r\n",
                "\r\n",
                "def periodic_work(interval):\r\n",
                "    while True:\r\n",
                "        #change this to the function you want to call, or paste in the code you want to run\r\n",
                "        perform_update()\r\n",
                "        #interval should be an integer, the number of seconds to wait\r\n",
                "        time.sleep(interval)"
            ],
            "outputs": [],
            "metadata": {}
        },
        {
            "cell_type": "code",
            "execution_count": 13,
            "source": [
                "periodic_work(10)"
            ],
            "outputs": [
                {
                    "output_type": "stream",
                    "name": "stdout",
                    "text": [
                        "https://cityio.media.mit.edu/api/table/yourtest/GEOGRIDDATA/ Attempt: 0\n",
                        "Updating grid to \n",
                        "[[0, 0], [1, 0], [1, 0], [1, 0], [1, 0], [-1, -1], [1, 0], [1, 0], [1, 0], [1, 0], [1, 0], [1, 0], [1, 0], [1, 0], [1, 0], [1, 0], [1, 0], [1, 0], [1, 0], [1, 0], [1, 0], [1, 0], [1, 0], [1, 0], [1, 0]]\n",
                        "https://cityio.media.mit.edu/api/table/yourtest/meta/hashes/ Attempt: 0\n",
                        "GEOGRIDDATA successfully updated: 7KoNRj4GYwqe1Co3SM4WNsucL68obPDDw5TbHTVeuoQx\n",
                        "Done with update\n"
                    ]
                },
                {
                    "output_type": "error",
                    "ename": "KeyboardInterrupt",
                    "evalue": "",
                    "traceback": [
                        "\u001b[1;31m---------------------------------------------------------------------------\u001b[0m",
                        "\u001b[1;31mKeyboardInterrupt\u001b[0m                         Traceback (most recent call last)",
                        "\u001b[1;32m~\\AppData\\Local\\Temp/ipykernel_11364/3708624995.py\u001b[0m in \u001b[0;36m<module>\u001b[1;34m\u001b[0m\n\u001b[1;32m----> 1\u001b[1;33m \u001b[0mperiodic_work\u001b[0m\u001b[1;33m(\u001b[0m\u001b[1;36m10\u001b[0m\u001b[1;33m)\u001b[0m\u001b[1;33m\u001b[0m\u001b[1;33m\u001b[0m\u001b[0m\n\u001b[0m",
                        "\u001b[1;32m~\\AppData\\Local\\Temp/ipykernel_11364/3759033179.py\u001b[0m in \u001b[0;36mperiodic_work\u001b[1;34m(interval)\u001b[0m\n\u001b[0;32m     26\u001b[0m         \u001b[0mperform_update\u001b[0m\u001b[1;33m(\u001b[0m\u001b[1;33m)\u001b[0m\u001b[1;33m\u001b[0m\u001b[1;33m\u001b[0m\u001b[0m\n\u001b[0;32m     27\u001b[0m         \u001b[1;31m#interval should be an integer, the number of seconds to wait\u001b[0m\u001b[1;33m\u001b[0m\u001b[1;33m\u001b[0m\u001b[1;33m\u001b[0m\u001b[0m\n\u001b[1;32m---> 28\u001b[1;33m         \u001b[0mtime\u001b[0m\u001b[1;33m.\u001b[0m\u001b[0msleep\u001b[0m\u001b[1;33m(\u001b[0m\u001b[0minterval\u001b[0m\u001b[1;33m)\u001b[0m\u001b[1;33m\u001b[0m\u001b[1;33m\u001b[0m\u001b[0m\n\u001b[0m",
                        "\u001b[1;31mKeyboardInterrupt\u001b[0m: "
                    ]
                }
            ],
            "metadata": {}
        }
    ],
    "metadata": {
        "orig_nbformat": 4,
        "language_info": {
            "name": "python",
            "version": "3.9.6",
            "mimetype": "text/x-python",
            "codemirror_mode": {
                "name": "ipython",
                "version": 3
            },
            "pygments_lexer": "ipython3",
            "nbconvert_exporter": "python",
            "file_extension": ".py"
        },
        "kernelspec": {
            "name": "python3",
            "display_name": "Python 3.9.6 64-bit ('scope': conda)"
        },
        "interpreter": {
            "hash": "e49824ce53f3662f9f83023f596ee15ad2ec23489af04e27b649ccd7c687a497"
        }
    },
    "nbformat": 4,
    "nbformat_minor": 2
}