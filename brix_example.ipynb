{
    "cells": [
        {
            "cell_type": "code",
            "execution_count": 2,
            "source": [
                "from brix import Handler"
            ],
            "outputs": [],
            "metadata": {}
        },
        {
            "cell_type": "code",
            "execution_count": 3,
            "source": [
                "H = Handler('yourtest',quietly=False)\r\n",
                "\r\n",
                "geogrid_data = H.get_geogrid_data()\r\n",
                "# print(geogrid_data)\r\n",
                "# print(H.get_geogrid_data(include_geometries=True))\r\n",
                "\r\n",
                "# print(geogrid_data.get_geogrid_props())\r\n",
                "\r\n",
                "# geogrid_data = H.get_geogrid_data()\r\n",
                "# print(geogrid_data.as_df())\r\n",
                "\r\n"
            ],
            "outputs": [
                {
                    "output_type": "stream",
                    "name": "stdout",
                    "text": [
                        "https://cityio.media.mit.edu/api/tables/list/ Attempt: 0\n",
                        "https://cityio.media.mit.edu/api/table/yourtest/meta/hashes/ Attempt: 0\n",
                        "https://cityio.media.mit.edu/api/table/yourtest/GEOGRIDDATA/ Attempt: 0\n",
                        "https://cityio.media.mit.edu/api/table/yourtest/GEOGRID/ Attempt: 0\n"
                    ]
                },
                {
                    "output_type": "stream",
                    "name": "stderr",
                    "text": [
                        "C:\\Users\\Ameno\\Anaconda3\\envs\\scope\\lib\\site-packages\\brix\\classes.py:981: FutureWarning: In a future version of pandas all arguments of DataFrame.drop except for the argument 'labels' will be keyword-only\n",
                        "  geos = gpd.GeoDataFrame(geos.drop('geometry',1),geometry=geos['geometry'].apply(lambda x: shape(x))) # no crs to avoid warning\n"
                    ]
                }
            ],
            "metadata": {}
        },
        {
            "cell_type": "code",
            "execution_count": 5,
            "source": [
                "geogrid_data = H.get_geogrid_data()\r\n",
                "geogrid_data = geogrid_data.remove_noninteractive()\r\n",
                "\r\n",
                "# print(geogrid_data)\r\n",
                "# print(geogrid_data.as_df())\r\n",
                "# I.return_indicator(geogrid_data)\r\n",
                "geogrid_data_including = H.get_geogrid_data(include_geometries=True, with_properties=True)\r\n",
                "print(geogrid_data_including)"
            ],
            "outputs": [
                {
                    "output_type": "stream",
                    "name": "stdout",
                    "text": [
                        "https://cityio.media.mit.edu/api/table/yourtest/GEOGRIDDATA/ Attempt: 0\n",
                        "https://cityio.media.mit.edu/api/table/yourtest/GEOGRIDDATA/ Attempt: 0\n",
                        "[{'color': [179, 39, 69], 'height': 7, 'id': 0, 'interactive': 'Web', 'name': 'Institutional', 'geometry': {'coordinates': [[[-71.0854323, 42.36646549999987], [-71.08543229999576, 42.366015361504274], [-71.0848252954214, 42.36601535990573], [-71.08482529110589, 42.36646549840132], [-71.0854323, 42.36646549999987]]], 'type': 'Polygon'}, 'properties': {'LBCS': {'6700': 0.3, '2310': 0.21, '4100': 0.49}, 'NAICS': {'7121': 0.29999999999999993, '6111': 0.20999999999999994, '6113': 0.06999999999999999, '6115': 0.06999999999999999, '6116': 0.13999999999999999, '8133': 0.10499999999999997, '8134': 0.10499999999999997}, 'color': '#B32745', 'description': 'description for: Institutional', 'height': 4, 'interactive': 'Web', 'name': 'Institutional', 'tableData': {'id': 0}}}, {'color': [179, 39, 69], 'height': 7, 'id': 1, 'interactive': 'Web', 'name': 'Institutional', 'geometry': {'coordinates': [[[-71.08482529110589, 42.36646549840132], [-71.0848252954214, 42.36601535990573], [-71.0842182908471, 42.36601535510377], [-71.08421828221185, 42.36646549359935], [-71.08482529110589, 42.36646549840132]]], 'type': 'Polygon'}, 'properties': {'LBCS': {'6700': 0.3, '2310': 0.21, '4100': 0.49}, 'NAICS': {'7121': 0.29999999999999993, '6111': 0.20999999999999994, '6113': 0.06999999999999999, '6115': 0.06999999999999999, '6116': 0.13999999999999999, '8133': 0.10499999999999997, '8134': 0.10499999999999997}, 'color': '#B32745', 'description': 'description for: Institutional', 'height': 4, 'interactive': 'Web', 'name': 'Institutional', 'tableData': {'id': 0}}}, {'color': [179, 39, 69], 'height': 7, 'id': 2, 'interactive': 'Web', 'name': 'Institutional', 'geometry': {'coordinates': [[[-71.08421828221185, 42.36646549359935], [-71.0842182908471, 42.36601535510377], [-71.08361128627293, 42.36601534709846], [-71.08361127331793, 42.36646548559397], [-71.08421828221185, 42.36646549359935]]], 'type': 'Polygon'}, 'properties': {'LBCS': {'6700': 0.3, '2310': 0.21, '4100': 0.49}, 'NAICS': {'7121': 0.29999999999999993, '6111': 0.20999999999999994, '6113': 0.06999999999999999, '6115': 0.06999999999999999, '6116': 0.13999999999999999, '8133': 0.10499999999999997, '8134': 0.10499999999999997}, 'color': '#B32745', 'description': 'description for: Institutional', 'height': 4, 'interactive': 'Web', 'name': 'Institutional', 'tableData': {'id': 0}}}, {'color': [179, 39, 69], 'height': 7, 'id': 3, 'interactive': 'Web', 'name': 'Institutional', 'geometry': {'coordinates': [[[-71.08361127331793, 42.36646548559397], [-71.08361128627293, 42.36601534709846], [-71.08300428169895, 42.36601533588975], [-71.08300426442419, 42.36646547438519], [-71.08361127331793, 42.36646548559397]]], 'type': 'Polygon'}, 'properties': {'LBCS': {'6700': 0.3, '2310': 0.21, '4100': 0.49}, 'NAICS': {'7121': 0.29999999999999993, '6111': 0.20999999999999994, '6113': 0.06999999999999999, '6115': 0.06999999999999999, '6116': 0.13999999999999999, '8133': 0.10499999999999997, '8134': 0.10499999999999997}, 'color': '#B32745', 'description': 'description for: Institutional', 'height': 4, 'interactive': 'Web', 'name': 'Institutional', 'tableData': {'id': 0}}}, {'color': [179, 39, 69], 'height': 7, 'id': 4, 'interactive': 'Web', 'name': 'Institutional', 'geometry': {'coordinates': [[[-71.08543229999576, 42.366015361504274], [-71.08543229999151, 42.36556522296302], [-71.08482529973685, 42.36556522136448], [-71.0848252954214, 42.36601535990573], [-71.08543229999576, 42.366015361504274]]], 'type': 'Polygon'}, 'properties': {'LBCS': {'6700': 0.3, '2310': 0.21, '4100': 0.49}, 'NAICS': {'7121': 0.29999999999999993, '6111': 0.20999999999999994, '6113': 0.06999999999999999, '6115': 0.06999999999999999, '6116': 0.13999999999999999, '8133': 0.10499999999999997, '8134': 0.10499999999999997}, 'color': '#B32745', 'description': 'description for: Institutional', 'height': 4, 'interactive': 'Web', 'name': 'Institutional', 'tableData': {'id': 0}}}, {'color': [179, 39, 69], 'height': 7, 'id': 5, 'interactive': 'Web', 'name': 'Institutional', 'geometry': {'coordinates': [[[-71.0848252954214, 42.36601535990573], [-71.08482529973685, 42.36556522136448], [-71.08421829948223, 42.365565216562565], [-71.0842182908471, 42.36601535510377], [-71.0848252954214, 42.36601535990573]]], 'type': 'Polygon'}, 'properties': {'LBCS': {'6700': 0.3, '2310': 0.21, '4100': 0.49}, 'NAICS': {'7121': 0.29999999999999993, '6111': 0.20999999999999994, '6113': 0.06999999999999999, '6115': 0.06999999999999999, '6116': 0.13999999999999999, '8133': 0.10499999999999997, '8134': 0.10499999999999997}, 'color': '#B32745', 'description': 'description for: Institutional', 'height': 4, 'interactive': 'Web', 'name': 'Institutional', 'tableData': {'id': 0}}}, {'color': [179, 39, 69], 'height': 7, 'id': 6, 'interactive': 'Web', 'name': 'Institutional', 'geometry': {'coordinates': [[[-71.0842182908471, 42.36601535510377], [-71.08421829948223, 42.365565216562565], [-71.08361129922775, 42.3655652085573], [-71.08361128627293, 42.36601534709846], [-71.0842182908471, 42.36601535510377]]], 'type': 'Polygon'}, 'properties': {'LBCS': {'6700': 0.3, '2310': 0.21, '4100': 0.49}, 'NAICS': {'7121': 0.29999999999999993, '6111': 0.20999999999999994, '6113': 0.06999999999999999, '6115': 0.06999999999999999, '6116': 0.13999999999999999, '8133': 0.10499999999999997, '8134': 0.10499999999999997}, 'color': '#B32745', 'description': 'description for: Institutional', 'height': 4, 'interactive': 'Web', 'name': 'Institutional', 'tableData': {'id': 0}}}, {'color': [179, 39, 69], 'height': 3, 'id': 7, 'interactive': 'Web', 'name': 'Institutional', 'geometry': {'coordinates': [[[-71.08361128627293, 42.36601534709846], [-71.08361129922775, 42.3655652085573], [-71.08300429897344, 42.36556519734867], [-71.08300428169895, 42.36601533588975], [-71.08361128627293, 42.36601534709846]]], 'type': 'Polygon'}, 'properties': {'LBCS': {'6700': 0.3, '2310': 0.21, '4100': 0.49}, 'NAICS': {'7121': 0.29999999999999993, '6111': 0.20999999999999994, '6113': 0.06999999999999999, '6115': 0.06999999999999999, '6116': 0.13999999999999999, '8133': 0.10499999999999997, '8134': 0.10499999999999997}, 'color': '#B32745', 'description': 'description for: Institutional', 'height': 4, 'interactive': 'Web', 'name': 'Institutional', 'tableData': {'id': 0}}}, {'color': [179, 39, 69], 'height': 13, 'id': 8, 'interactive': 'Web', 'name': 'Institutional', 'geometry': {'coordinates': [[[-71.08543229999151, 42.36556522296302], [-71.08543229998727, 42.36511508437615], [-71.08482530405223, 42.36511508277761], [-71.08482529973685, 42.36556522136448], [-71.08543229999151, 42.36556522296302]]], 'type': 'Polygon'}, 'properties': {'LBCS': {'6700': 0.3, '2310': 0.21, '4100': 0.49}, 'NAICS': {'7121': 0.29999999999999993, '6111': 0.20999999999999994, '6113': 0.06999999999999999, '6115': 0.06999999999999999, '6116': 0.13999999999999999, '8133': 0.10499999999999997, '8134': 0.10499999999999997}, 'color': '#B32745', 'description': 'description for: Institutional', 'height': 4, 'interactive': 'Web', 'name': 'Institutional', 'tableData': {'id': 0}}}, {'color': [179, 39, 69], 'height': 13, 'id': 9, 'interactive': 'Web', 'name': 'Institutional', 'geometry': {'coordinates': [[[-71.08482529973685, 42.36556522136448], [-71.08482530405223, 42.36511508277761], [-71.08421830811724, 42.36511507797573], [-71.08421829948223, 42.365565216562565], [-71.08482529973685, 42.36556522136448]]], 'type': 'Polygon'}, 'properties': {'LBCS': {'6700': 0.3, '2310': 0.21, '4100': 0.49}, 'NAICS': {'7121': 0.29999999999999993, '6111': 0.20999999999999994, '6113': 0.06999999999999999, '6115': 0.06999999999999999, '6116': 0.13999999999999999, '8133': 0.10499999999999997, '8134': 0.10499999999999997}, 'color': '#B32745', 'description': 'description for: Institutional', 'height': 4, 'interactive': 'Web', 'name': 'Institutional', 'tableData': {'id': 0}}}, {'color': [179, 39, 69], 'height': 13, 'id': 10, 'interactive': 'Web', 'name': 'Institutional', 'geometry': {'coordinates': [[[-71.08421829948223, 42.365565216562565], [-71.08421830811724, 42.36511507797573], [-71.08361131218238, 42.365115069970514], [-71.08361129922775, 42.3655652085573], [-71.08421829948223, 42.365565216562565]]], 'type': 'Polygon'}, 'properties': {'LBCS': {'6700': 0.3, '2310': 0.21, '4100': 0.49}, 'NAICS': {'7121': 0.29999999999999993, '6111': 0.20999999999999994, '6113': 0.06999999999999999, '6115': 0.06999999999999999, '6116': 0.13999999999999999, '8133': 0.10499999999999997, '8134': 0.10499999999999997}, 'color': '#B32745', 'description': 'description for: Institutional', 'height': 4, 'interactive': 'Web', 'name': 'Institutional', 'tableData': {'id': 0}}}, {'color': [179, 39, 69], 'height': 7, 'id': 11, 'interactive': 'Web', 'name': 'Institutional', 'geometry': {'coordinates': [[[-71.08361129922775, 42.3655652085573], [-71.08361131218238, 42.365115069970514], [-71.08300431624771, 42.365115058761965], [-71.08300429897345, 42.36556519734867], [-71.08361129922775, 42.3655652085573]]], 'type': 'Polygon'}, 'properties': {'LBCS': {'6700': 0.3, '2310': 0.21, '4100': 0.49}, 'NAICS': {'7121': 0.29999999999999993, '6111': 0.20999999999999994, '6113': 0.06999999999999999, '6115': 0.06999999999999999, '6116': 0.13999999999999999, '8133': 0.10499999999999997, '8134': 0.10499999999999997}, 'color': '#B32745', 'description': 'description for: Institutional', 'height': 4, 'interactive': 'Web', 'name': 'Institutional', 'tableData': {'id': 0}}}, {'color': [179, 39, 69], 'height': 7, 'id': 12, 'interactive': 'Web', 'name': 'Institutional', 'geometry': {'coordinates': [[[-71.08543229998727, 42.36511508437615], [-71.08543229998304, 42.364664945743655], [-71.08482530836756, 42.364664944145126], [-71.08482530405223, 42.36511508277761], [-71.08543229998727, 42.36511508437615]]], 'type': 'Polygon'}, 'properties': {'LBCS': {'6700': 0.3, '2310': 0.21, '4100': 0.49}, 'NAICS': {'7121': 0.29999999999999993, '6111': 0.20999999999999994, '6113': 0.06999999999999999, '6115': 0.06999999999999999, '6116': 0.13999999999999999, '8133': 0.10499999999999997, '8134': 0.10499999999999997}, 'color': '#B32745', 'description': 'description for: Institutional', 'height': 4, 'interactive': 'Web', 'name': 'Institutional', 'tableData': {'id': 0}}}, {'color': [179, 39, 69], 'height': 13, 'id': 13, 'interactive': 'Web', 'name': 'Institutional', 'geometry': {'coordinates': [[[-71.08482530405223, 42.36511508277761], [-71.08482530836756, 42.364664944145126], [-71.08421831675213, 42.36466493934329], [-71.08421830811724, 42.36511507797573], [-71.08482530405223, 42.36511508277761]]], 'type': 'Polygon'}, 'properties': {'LBCS': {'6700': 0.3, '2310': 0.21, '4100': 0.49}, 'NAICS': {'7121': 0.29999999999999993, '6111': 0.20999999999999994, '6113': 0.06999999999999999, '6115': 0.06999999999999999, '6116': 0.13999999999999999, '8133': 0.10499999999999997, '8134': 0.10499999999999997}, 'color': '#B32745', 'description': 'description for: Institutional', 'height': 4, 'interactive': 'Web', 'name': 'Institutional', 'tableData': {'id': 0}}}, {'color': [179, 39, 69], 'height': 13, 'id': 14, 'interactive': 'Web', 'name': 'Institutional', 'geometry': {'coordinates': [[[-71.08421830811724, 42.36511507797573], [-71.08421831675213, 42.36466493934329], [-71.08361132513683, 42.36466493133815], [-71.08361131218238, 42.36511506997053], [-71.08421830811724, 42.36511507797573]]], 'type': 'Polygon'}, 'properties': {'LBCS': {'6700': 0.3, '2310': 0.21, '4100': 0.49}, 'NAICS': {'7121': 0.29999999999999993, '6111': 0.20999999999999994, '6113': 0.06999999999999999, '6115': 0.06999999999999999, '6116': 0.13999999999999999, '8133': 0.10499999999999997, '8134': 0.10499999999999997}, 'color': '#B32745', 'description': 'description for: Institutional', 'height': 4, 'interactive': 'Web', 'name': 'Institutional', 'tableData': {'id': 0}}}, {'color': [179, 39, 69], 'height': 7, 'id': 15, 'interactive': 'Web', 'name': 'Institutional', 'geometry': {'coordinates': [[[-71.08361131218238, 42.36511506997053], [-71.08361132513683, 42.36466493133815], [-71.08300433352171, 42.36466492012967], [-71.08300431624771, 42.365115058761965], [-71.08361131218238, 42.36511506997053]]], 'type': 'Polygon'}, 'properties': {'LBCS': {'6700': 0.3, '2310': 0.21, '4100': 0.49}, 'NAICS': {'7121': 0.29999999999999993, '6111': 0.20999999999999994, '6113': 0.06999999999999999, '6115': 0.06999999999999999, '6116': 0.13999999999999999, '8133': 0.10499999999999997, '8134': 0.10499999999999997}, 'color': '#B32745', 'description': 'description for: Institutional', 'height': 4, 'interactive': 'Web', 'name': 'Institutional', 'tableData': {'id': 0}}}]\n"
                    ]
                }
            ],
            "metadata": {}
        },
        {
            "cell_type": "code",
            "execution_count": 8,
            "source": [
                "from brix import Indicator\r\n",
                "\r\n",
                "class MyIndicator(Indicator):\r\n",
                "        '''\r\n",
                "        Write a description for your indicator here.\r\n",
                "        '''\r\n",
                "        def setup(self):\r\n",
                "                '''\r\n",
                "                Think of this as your __init__.\r\n",
                "                Here you will define the properties of your indicator.\r\n",
                "                Although there are no required properties, be nice and give your indicator a name.\r\n",
                "                '''\r\n",
                "                self.name = 'numeric'\r\n",
                "                self.requires_geometry= True\r\n",
                "                self.requires_geogrid_props = True\r\n",
                "                self.indicator_type = 'numeric'\r\n",
                "                self.viz_type = 'radar'\r\n",
                "                \r\n",
                "        def load_module(self):\r\n",
                "                '''\r\n",
                "                This function is not strictly necessary, but we recommend that you define it if you want to load something from memory. It will make your code more readable.\r\n",
                "                All data loading actions should go here.\r\n",
                "                '''\r\n",
                "                pass\r\n",
                "\r\n",
                "        def return_indicator(self, geogrid_data):\r\n",
                "                '''\r\n",
                "                This is the main course of your indicator.\r\n",
                "                This function takes in `geogrid_data` and returns the value of your indicator.\r\n",
                "                The library is flexible enough to handle indicators that return a number or a dictionary.\r\n",
                "                '''\r\n",
                "                return 10\r\n",
                "\r\n",
                "import random\r\n",
                "class RandomFlag(Indicator):\r\n",
                "        '''\r\n",
                "        Example of textual indicator that annotates two random cells.\r\n",
                "        '''\r\n",
                "        def setup(self):\r\n",
                "                self.indicator_type = 'textual'\r\n",
                "                self.requires_geometry = True\r\n",
                "                self.name = 'Yes/No'\r\n",
                "\r\n",
                "        def return_indicator(self, geogrid_data):\r\n",
                "                cells = random.sample(geogrid_data,2)\r\n",
                "                out = [\r\n",
                "                        {'id':cells[0]['id'],'info':'yes!'},\r\n",
                "                        {'id':cells[1]['id'],'info':'no!'},\r\n",
                "                ]\r\n",
                "                return out\r\n"
            ],
            "outputs": [],
            "metadata": {}
        },
        {
            "cell_type": "code",
            "execution_count": 11,
            "source": [
                "# from brix import Handler\r\n",
                "# from myindicators import MyIndicator\r\n",
                "\r\n",
                "dens = MyIndicator()\r\n",
                "randomFlag = RandomFlag()\r\n",
                "H = Handler('yourtest', quietly=False)\r\n",
                "H.add_indicators([\r\n",
                "        dens,\r\n",
                "        randomFlag\r\n",
                "])\r\n",
                "print(H.list_indicators())\r\n",
                "print(H.return_indicator(\"numeric\"))\r\n",
                "H.listen()"
            ],
            "outputs": [
                {
                    "output_type": "stream",
                    "name": "stdout",
                    "text": [
                        "https://cityio.media.mit.edu/api/tables/list/ Attempt: 0\n",
                        "https://cityio.media.mit.edu/api/table/yourtest/meta/hashes/ Attempt: 0\n",
                        "https://cityio.media.mit.edu/api/table/yourtest/GEOGRIDDATA/ Attempt: 0\n",
                        "https://cityio.media.mit.edu/api/table/yourtest/GEOGRID/ Attempt: 0\n",
                        "https://cityio.media.mit.edu/api/table/yourtest/GEOGRIDDATA/ Attempt: 0\n",
                        "['numeric', 'Yes/No']\n",
                        "https://cityio.media.mit.edu/api/table/yourtest/GEOGRIDDATA/ Attempt: 0\n",
                        "10\n",
                        "Table URL: https://cityscope.media.mit.edu/CS_cityscopeJS/?cityscope=yourtest\n",
                        "Testing indicators\n",
                        "https://cityio.media.mit.edu/api/table/yourtest/GEOGRIDDATA/ Attempt: 0\n",
                        "Performing initial update\n",
                        "Updating geogrid_data\n",
                        "https://cityio.media.mit.edu/api/table/yourtest/GEOGRIDDATA/ Attempt: 0\n",
                        "https://cityio.media.mit.edu/api/table/yourtest/meta/hashes/ Attempt: 0\n",
                        "Updating table with hash: 3uk9v6t3Qw3WR4fP7ngi8sYYbRtdyq2jZxaWBLLmxioM\n",
                        "https://cityio.media.mit.edu/api/table/yourtest/GEOGRIDDATA/ Attempt: 0\n",
                        "Done with update\n",
                        "Local grid hash: 3uk9v6t3Qw3WR4fP7ngi8sYYbRtdyq2jZxaWBLLmxioM\n",
                        "https://cityio.media.mit.edu/api/table/yourtest/meta/hashes/ Attempt: 0\n",
                        "https://cityio.media.mit.edu/api/table/yourtest/meta/hashes/ Attempt: 0\n",
                        "https://cityio.media.mit.edu/api/table/yourtest/meta/hashes/ Attempt: 0\n",
                        "https://cityio.media.mit.edu/api/table/yourtest/meta/hashes/ Attempt: 0\n",
                        "https://cityio.media.mit.edu/api/table/yourtest/meta/hashes/ Attempt: 0\n",
                        "https://cityio.media.mit.edu/api/table/yourtest/meta/hashes/ Attempt: 0\n",
                        "https://cityio.media.mit.edu/api/table/yourtest/meta/hashes/ Attempt: 0\n",
                        "https://cityio.media.mit.edu/api/table/yourtest/meta/hashes/ Attempt: 0\n",
                        "https://cityio.media.mit.edu/api/table/yourtest/meta/hashes/ Attempt: 0\n",
                        "https://cityio.media.mit.edu/api/table/yourtest/meta/hashes/ Attempt: 0\n",
                        "https://cityio.media.mit.edu/api/table/yourtest/meta/hashes/ Attempt: 0\n",
                        "https://cityio.media.mit.edu/api/table/yourtest/meta/hashes/ Attempt: 0\n",
                        "https://cityio.media.mit.edu/api/table/yourtest/meta/hashes/ Attempt: 0\n",
                        "https://cityio.media.mit.edu/api/table/yourtest/meta/hashes/ Attempt: 0\n",
                        "https://cityio.media.mit.edu/api/table/yourtest/meta/hashes/ Attempt: 0\n",
                        "https://cityio.media.mit.edu/api/table/yourtest/meta/hashes/ Attempt: 0\n",
                        "https://cityio.media.mit.edu/api/table/yourtest/meta/hashes/ Attempt: 0\n",
                        "https://cityio.media.mit.edu/api/table/yourtest/meta/hashes/ Attempt: 0\n",
                        "https://cityio.media.mit.edu/api/table/yourtest/meta/hashes/ Attempt: 0\n",
                        "https://cityio.media.mit.edu/api/table/yourtest/meta/hashes/ Attempt: 0\n",
                        "https://cityio.media.mit.edu/api/table/yourtest/meta/hashes/ Attempt: 0\n",
                        "https://cityio.media.mit.edu/api/table/yourtest/meta/hashes/ Attempt: 0\n",
                        "https://cityio.media.mit.edu/api/table/yourtest/meta/hashes/ Attempt: 0\n",
                        "https://cityio.media.mit.edu/api/table/yourtest/meta/hashes/ Attempt: 0\n",
                        "https://cityio.media.mit.edu/api/table/yourtest/meta/hashes/ Attempt: 0\n",
                        "https://cityio.media.mit.edu/api/table/yourtest/meta/hashes/ Attempt: 0\n",
                        "https://cityio.media.mit.edu/api/table/yourtest/meta/hashes/ Attempt: 0\n",
                        "https://cityio.media.mit.edu/api/table/yourtest/meta/hashes/ Attempt: 0\n",
                        "https://cityio.media.mit.edu/api/table/yourtest/meta/hashes/ Attempt: 0\n",
                        "https://cityio.media.mit.edu/api/table/yourtest/meta/hashes/ Attempt: 0\n",
                        "https://cityio.media.mit.edu/api/table/yourtest/meta/hashes/ Attempt: 0\n",
                        "https://cityio.media.mit.edu/api/table/yourtest/meta/hashes/ Attempt: 0\n",
                        "https://cityio.media.mit.edu/api/table/yourtest/meta/hashes/ Attempt: 0\n",
                        "https://cityio.media.mit.edu/api/table/yourtest/meta/hashes/ Attempt: 0\n",
                        "https://cityio.media.mit.edu/api/table/yourtest/meta/hashes/ Attempt: 0\n",
                        "https://cityio.media.mit.edu/api/table/yourtest/meta/hashes/ Attempt: 0\n",
                        "https://cityio.media.mit.edu/api/table/yourtest/meta/hashes/ Attempt: 0\n",
                        "https://cityio.media.mit.edu/api/table/yourtest/meta/hashes/ Attempt: 0\n",
                        "https://cityio.media.mit.edu/api/table/yourtest/meta/hashes/ Attempt: 0\n",
                        "https://cityio.media.mit.edu/api/table/yourtest/meta/hashes/ Attempt: 0\n",
                        "https://cityio.media.mit.edu/api/table/yourtest/meta/hashes/ Attempt: 0\n",
                        "https://cityio.media.mit.edu/api/table/yourtest/meta/hashes/ Attempt: 0\n",
                        "https://cityio.media.mit.edu/api/table/yourtest/meta/hashes/ Attempt: 0\n",
                        "https://cityio.media.mit.edu/api/table/yourtest/meta/hashes/ Attempt: 0\n",
                        "https://cityio.media.mit.edu/api/table/yourtest/meta/hashes/ Attempt: 0\n",
                        "https://cityio.media.mit.edu/api/table/yourtest/meta/hashes/ Attempt: 0\n",
                        "https://cityio.media.mit.edu/api/table/yourtest/meta/hashes/ Attempt: 0\n",
                        "https://cityio.media.mit.edu/api/table/yourtest/meta/hashes/ Attempt: 0\n",
                        "https://cityio.media.mit.edu/api/table/yourtest/meta/hashes/ Attempt: 0\n",
                        "https://cityio.media.mit.edu/api/table/yourtest/meta/hashes/ Attempt: 0\n",
                        "https://cityio.media.mit.edu/api/table/yourtest/meta/hashes/ Attempt: 0\n",
                        "https://cityio.media.mit.edu/api/table/yourtest/meta/hashes/ Attempt: 0\n",
                        "https://cityio.media.mit.edu/api/table/yourtest/meta/hashes/ Attempt: 0\n",
                        "https://cityio.media.mit.edu/api/table/yourtest/meta/hashes/ Attempt: 0\n",
                        "https://cityio.media.mit.edu/api/table/yourtest/meta/hashes/ Attempt: 0\n",
                        "https://cityio.media.mit.edu/api/table/yourtest/meta/hashes/ Attempt: 0\n",
                        "https://cityio.media.mit.edu/api/table/yourtest/meta/hashes/ Attempt: 0\n",
                        "https://cityio.media.mit.edu/api/table/yourtest/meta/hashes/ Attempt: 0\n",
                        "https://cityio.media.mit.edu/api/table/yourtest/meta/hashes/ Attempt: 0\n"
                    ]
                }
            ],
            "metadata": {}
        },
        {
            "cell_type": "code",
            "execution_count": 7,
            "source": [
                "def add_height(geogrid_data, levels=1):\r\n",
                "        for cell in geogrid_data:\r\n",
                "                cell['height'] += levels\r\n",
                "        return geogrid_data\r\n",
                "\r\n",
                "def update_g(geogrid_data):\r\n",
                "        for cell in geogrid_data:\r\n",
                "                cell['name'] = 'Institutional'\r\n",
                "        return geogrid_data\r\n"
            ],
            "outputs": [],
            "metadata": {}
        },
        {
            "cell_type": "code",
            "execution_count": null,
            "source": [
                "# H.update_geogrid_data(add_height,levels=3)\r\n",
                "H.add_geogrid_data_update_function(update_g)\r\n",
                "H.listen()"
            ],
            "outputs": [],
            "metadata": {}
        },
        {
            "cell_type": "code",
            "execution_count": 4,
            "source": [
                "\r\n",
                "\r\n",
                "\r\n",
                "\r\n",
                "types = {\r\n",
                "    -1:\"Invalid\", \r\n",
                "    0:\"Institutional\", \r\n",
                "    1:\"Office\", \r\n",
                "    2:\"Park\",  \r\n",
                "}\r\n"
            ],
            "outputs": [],
            "metadata": {}
        },
        {
            "cell_type": "code",
            "execution_count": 14,
            "source": [
                "import time\r\n",
                "import json\r\n",
                "scanned = [[0, 0], [1, 0], [1, 0], [1, 0], [1, 0], [-1, -1], [1, 0], [1, 0], [1, 0], [1, 0], [1, 0], [1, 0], [1, 0], [1, 0], [1, 0], [1, 0], [1, 0], [1, 0], [1, 0], [1, 0], [1, 0], [1, 0], [1, 0], [1, 0], [1, 0]]\r\n",
                "def perform_update():       \r\n",
                "        H.update_geogrid_data(update_types)\r\n",
                "def update_types(geogrid_data):\r\n",
                "        with open('CS_CityScoPy/scanner_data.txt') as json_file:\r\n",
                "                data = json.load(json_file)\r\n",
                "        scanned = data\r\n",
                "       \r\n",
                "        print(f\"Updating grid to \\n{scanned}\")\r\n",
                "        # print(geogrid_data)\r\n",
                "        for i, cell in enumerate(geogrid_data):\r\n",
                "                cell['name'] = 'Institutional'\r\n",
                "                id = cell[\"id\"]\r\n",
                "                scanned_type = types[scanned[i][0]]\r\n",
                "                if scanned_type != \"Invalid\":\r\n",
                "                        cell['name'] = scanned_type\r\n",
                "                # print(f\"i:{i}, id:{id}\")\r\n",
                "        return geogrid_data\r\n",
                "\r\n",
                "\r\n",
                "def periodic_work(interval):\r\n",
                "    while True:\r\n",
                "        #change this to the function you want to call, or paste in the code you want to run\r\n",
                "        perform_update()\r\n",
                "        #interval should be an integer, the number of seconds to wait\r\n",
                "        time.sleep(interval)"
            ],
            "outputs": [],
            "metadata": {}
        },
        {
            "cell_type": "code",
            "execution_count": 13,
            "source": [
                "periodic_work(10)"
            ],
            "outputs": [
                {
                    "output_type": "stream",
                    "name": "stdout",
                    "text": [
                        "https://cityio.media.mit.edu/api/table/yourtest/GEOGRIDDATA/ Attempt: 0\n",
                        "Updating grid to \n",
                        "[[0, 0], [1, 0], [1, 0], [1, 0], [1, 0], [-1, -1], [1, 0], [1, 0], [1, 0], [1, 0], [1, 0], [1, 0], [1, 0], [1, 0], [1, 0], [1, 0], [1, 0], [1, 0], [1, 0], [1, 0], [1, 0], [1, 0], [1, 0], [1, 0], [1, 0]]\n",
                        "https://cityio.media.mit.edu/api/table/yourtest/meta/hashes/ Attempt: 0\n",
                        "GEOGRIDDATA successfully updated: 7KoNRj4GYwqe1Co3SM4WNsucL68obPDDw5TbHTVeuoQx\n",
                        "Done with update\n"
                    ]
                },
                {
                    "output_type": "error",
                    "ename": "KeyboardInterrupt",
                    "evalue": "",
                    "traceback": [
                        "\u001b[1;31m---------------------------------------------------------------------------\u001b[0m",
                        "\u001b[1;31mKeyboardInterrupt\u001b[0m                         Traceback (most recent call last)",
                        "\u001b[1;32m~\\AppData\\Local\\Temp/ipykernel_11364/3708624995.py\u001b[0m in \u001b[0;36m<module>\u001b[1;34m\u001b[0m\n\u001b[1;32m----> 1\u001b[1;33m \u001b[0mperiodic_work\u001b[0m\u001b[1;33m(\u001b[0m\u001b[1;36m10\u001b[0m\u001b[1;33m)\u001b[0m\u001b[1;33m\u001b[0m\u001b[1;33m\u001b[0m\u001b[0m\n\u001b[0m",
                        "\u001b[1;32m~\\AppData\\Local\\Temp/ipykernel_11364/3759033179.py\u001b[0m in \u001b[0;36mperiodic_work\u001b[1;34m(interval)\u001b[0m\n\u001b[0;32m     26\u001b[0m         \u001b[0mperform_update\u001b[0m\u001b[1;33m(\u001b[0m\u001b[1;33m)\u001b[0m\u001b[1;33m\u001b[0m\u001b[1;33m\u001b[0m\u001b[0m\n\u001b[0;32m     27\u001b[0m         \u001b[1;31m#interval should be an integer, the number of seconds to wait\u001b[0m\u001b[1;33m\u001b[0m\u001b[1;33m\u001b[0m\u001b[1;33m\u001b[0m\u001b[0m\n\u001b[1;32m---> 28\u001b[1;33m         \u001b[0mtime\u001b[0m\u001b[1;33m.\u001b[0m\u001b[0msleep\u001b[0m\u001b[1;33m(\u001b[0m\u001b[0minterval\u001b[0m\u001b[1;33m)\u001b[0m\u001b[1;33m\u001b[0m\u001b[1;33m\u001b[0m\u001b[0m\n\u001b[0m",
                        "\u001b[1;31mKeyboardInterrupt\u001b[0m: "
                    ]
                }
            ],
            "metadata": {}
        }
    ],
    "metadata": {
        "orig_nbformat": 4,
        "language_info": {
            "name": "python",
            "version": "3.9.6",
            "mimetype": "text/x-python",
            "codemirror_mode": {
                "name": "ipython",
                "version": 3
            },
            "pygments_lexer": "ipython3",
            "nbconvert_exporter": "python",
            "file_extension": ".py"
        },
        "kernelspec": {
            "name": "python3",
            "display_name": "Python 3.9.6 64-bit ('scope': conda)"
        },
        "interpreter": {
            "hash": "e49824ce53f3662f9f83023f596ee15ad2ec23489af04e27b649ccd7c687a497"
        }
    },
    "nbformat": 4,
    "nbformat_minor": 2
}