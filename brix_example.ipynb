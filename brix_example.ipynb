{
    "cells": [
        {
            "cell_type": "code",
            "execution_count": 2,
            "source": [
                "from brix import Handler"
            ],
            "outputs": [],
            "metadata": {}
        },
        {
            "cell_type": "code",
            "execution_count": 3,
            "source": [
                "H = Handler('yourtest',quietly=False)\r\n",
                "\r\n",
                "geogrid_data = H.get_geogrid_data()\r\n",
                "# print(geogrid_data)\r\n",
                "# print(H.get_geogrid_data(include_geometries=True))\r\n",
                "\r\n",
                "# print(geogrid_data.get_geogrid_props())\r\n",
                "\r\n",
                "# geogrid_data = H.get_geogrid_data()\r\n",
                "# print(geogrid_data.as_df())\r\n",
                "\r\n"
            ],
            "outputs": [
                {
                    "output_type": "stream",
                    "name": "stdout",
                    "text": [
                        "https://cityio.media.mit.edu/api/tables/list/ Attempt: 0\n",
                        "https://cityio.media.mit.edu/api/table/yourtest/meta/hashes/ Attempt: 0\n",
                        "https://cityio.media.mit.edu/api/table/yourtest/GEOGRIDDATA/ Attempt: 0\n",
                        "https://cityio.media.mit.edu/api/table/yourtest/GEOGRID/ Attempt: 0\n"
                    ]
                },
                {
                    "output_type": "stream",
                    "name": "stderr",
                    "text": [
                        "C:\\Users\\Ameno\\Anaconda3\\envs\\scope\\lib\\site-packages\\brix\\classes.py:981: FutureWarning: In a future version of pandas all arguments of DataFrame.drop except for the argument 'labels' will be keyword-only\n",
                        "  geos = gpd.GeoDataFrame(geos.drop('geometry',1),geometry=geos['geometry'].apply(lambda x: shape(x))) # no crs to avoid warning\n"
                    ]
                }
            ],
            "metadata": {}
        },
        {
            "cell_type": "code",
            "execution_count": 4,
            "source": [
                "geogrid_data = H.get_geogrid_data()\r\n",
                "geogrid_data = geogrid_data.remove_noninteractive()\r\n",
                "print(geogrid_data.as_df())\r\n",
                "# I.return_indicator(geogrid_data)"
            ],
            "outputs": [
                {
                    "output_type": "stream",
                    "name": "stdout",
                    "text": [
                        "https://cityio.media.mit.edu/api/table/yourtest/GEOGRIDDATA/ Attempt: 0\n",
                        "            color  height  id interactive           name\n",
                        "0   [179, 39, 69]       7   0         Web  Institutional\n",
                        "1   [179, 39, 69]       7   1         Web  Institutional\n",
                        "2   [179, 39, 69]       7   2         Web  Institutional\n",
                        "3   [179, 39, 69]       7   3         Web  Institutional\n",
                        "4   [179, 39, 69]       7   4         Web  Institutional\n",
                        "5   [179, 39, 69]       7   5         Web  Institutional\n",
                        "6   [179, 39, 69]       7   6         Web  Institutional\n",
                        "7   [179, 39, 69]       3   7         Web  Institutional\n",
                        "8   [179, 39, 69]      13   8         Web  Institutional\n",
                        "9   [179, 39, 69]      13   9         Web  Institutional\n",
                        "10  [179, 39, 69]      13  10         Web  Institutional\n",
                        "11  [179, 39, 69]       7  11         Web  Institutional\n",
                        "12  [179, 39, 69]       7  12         Web  Institutional\n",
                        "13  [179, 39, 69]      13  13         Web  Institutional\n",
                        "14  [179, 39, 69]      13  14         Web  Institutional\n",
                        "15  [179, 39, 69]       7  15         Web  Institutional\n"
                    ]
                }
            ],
            "metadata": {}
        },
        {
            "cell_type": "code",
            "execution_count": 8,
            "source": [
                "from brix import Indicator\r\n",
                "\r\n",
                "class MyIndicator(Indicator):\r\n",
                "        '''\r\n",
                "        Write a description for your indicator here.\r\n",
                "        '''\r\n",
                "        def setup(self):\r\n",
                "                '''\r\n",
                "                Think of this as your __init__.\r\n",
                "                Here you will define the properties of your indicator.\r\n",
                "                Although there are no required properties, be nice and give your indicator a name.\r\n",
                "                '''\r\n",
                "                self.name = 'numeric'\r\n",
                "                self.requires_geometry= True\r\n",
                "                self.requires_geogrid_props = True\r\n",
                "                self.indicator_type = 'numeric'\r\n",
                "                self.viz_type = 'radar'\r\n",
                "                \r\n",
                "        def load_module(self):\r\n",
                "                '''\r\n",
                "                This function is not strictly necessary, but we recommend that you define it if you want to load something from memory. It will make your code more readable.\r\n",
                "                All data loading actions should go here.\r\n",
                "                '''\r\n",
                "                pass\r\n",
                "\r\n",
                "        def return_indicator(self, geogrid_data):\r\n",
                "                '''\r\n",
                "                This is the main course of your indicator.\r\n",
                "                This function takes in `geogrid_data` and returns the value of your indicator.\r\n",
                "                The library is flexible enough to handle indicators that return a number or a dictionary.\r\n",
                "                '''\r\n",
                "                return 10\r\n",
                "\r\n",
                "import random\r\n",
                "class RandomFlag(Indicator):\r\n",
                "        '''\r\n",
                "        Example of textual indicator that annotates two random cells.\r\n",
                "        '''\r\n",
                "        def setup(self):\r\n",
                "                self.indicator_type = 'textual'\r\n",
                "                self.requires_geometry = True\r\n",
                "                self.name = 'Yes/No'\r\n",
                "\r\n",
                "        def return_indicator(self, geogrid_data):\r\n",
                "                cells = random.sample(geogrid_data,2)\r\n",
                "                out = [\r\n",
                "                        {'id':cells[0]['id'],'info':'yes!'},\r\n",
                "                        {'id':cells[1]['id'],'info':'no!'},\r\n",
                "                ]\r\n",
                "                return out\r\n"
            ],
            "outputs": [],
            "metadata": {}
        },
        {
            "cell_type": "code",
            "execution_count": 11,
            "source": [
                "# from brix import Handler\r\n",
                "# from myindicators import MyIndicator\r\n",
                "\r\n",
                "dens = MyIndicator()\r\n",
                "randomFlag = RandomFlag()\r\n",
                "H = Handler('yourtest', quietly=False)\r\n",
                "H.add_indicators([\r\n",
                "        dens,\r\n",
                "        randomFlag\r\n",
                "])\r\n",
                "print(H.list_indicators())\r\n",
                "print(H.return_indicator(\"numeric\"))\r\n",
                "H.listen()"
            ],
            "outputs": [
                {
                    "output_type": "stream",
                    "name": "stdout",
                    "text": [
                        "https://cityio.media.mit.edu/api/tables/list/ Attempt: 0\n",
                        "https://cityio.media.mit.edu/api/table/yourtest/meta/hashes/ Attempt: 0\n",
                        "https://cityio.media.mit.edu/api/table/yourtest/GEOGRIDDATA/ Attempt: 0\n",
                        "https://cityio.media.mit.edu/api/table/yourtest/GEOGRID/ Attempt: 0\n",
                        "https://cityio.media.mit.edu/api/table/yourtest/GEOGRIDDATA/ Attempt: 0\n",
                        "['numeric', 'Yes/No']\n",
                        "https://cityio.media.mit.edu/api/table/yourtest/GEOGRIDDATA/ Attempt: 0\n",
                        "10\n",
                        "Table URL: https://cityscope.media.mit.edu/CS_cityscopeJS/?cityscope=yourtest\n",
                        "Testing indicators\n",
                        "https://cityio.media.mit.edu/api/table/yourtest/GEOGRIDDATA/ Attempt: 0\n",
                        "Performing initial update\n",
                        "Updating geogrid_data\n",
                        "https://cityio.media.mit.edu/api/table/yourtest/GEOGRIDDATA/ Attempt: 0\n",
                        "https://cityio.media.mit.edu/api/table/yourtest/meta/hashes/ Attempt: 0\n",
                        "Updating table with hash: 3uk9v6t3Qw3WR4fP7ngi8sYYbRtdyq2jZxaWBLLmxioM\n",
                        "https://cityio.media.mit.edu/api/table/yourtest/GEOGRIDDATA/ Attempt: 0\n",
                        "Done with update\n",
                        "Local grid hash: 3uk9v6t3Qw3WR4fP7ngi8sYYbRtdyq2jZxaWBLLmxioM\n",
                        "https://cityio.media.mit.edu/api/table/yourtest/meta/hashes/ Attempt: 0\n",
                        "https://cityio.media.mit.edu/api/table/yourtest/meta/hashes/ Attempt: 0\n",
                        "https://cityio.media.mit.edu/api/table/yourtest/meta/hashes/ Attempt: 0\n",
                        "https://cityio.media.mit.edu/api/table/yourtest/meta/hashes/ Attempt: 0\n",
                        "https://cityio.media.mit.edu/api/table/yourtest/meta/hashes/ Attempt: 0\n",
                        "https://cityio.media.mit.edu/api/table/yourtest/meta/hashes/ Attempt: 0\n",
                        "https://cityio.media.mit.edu/api/table/yourtest/meta/hashes/ Attempt: 0\n",
                        "https://cityio.media.mit.edu/api/table/yourtest/meta/hashes/ Attempt: 0\n",
                        "https://cityio.media.mit.edu/api/table/yourtest/meta/hashes/ Attempt: 0\n",
                        "https://cityio.media.mit.edu/api/table/yourtest/meta/hashes/ Attempt: 0\n",
                        "https://cityio.media.mit.edu/api/table/yourtest/meta/hashes/ Attempt: 0\n",
                        "https://cityio.media.mit.edu/api/table/yourtest/meta/hashes/ Attempt: 0\n",
                        "https://cityio.media.mit.edu/api/table/yourtest/meta/hashes/ Attempt: 0\n",
                        "https://cityio.media.mit.edu/api/table/yourtest/meta/hashes/ Attempt: 0\n",
                        "https://cityio.media.mit.edu/api/table/yourtest/meta/hashes/ Attempt: 0\n",
                        "https://cityio.media.mit.edu/api/table/yourtest/meta/hashes/ Attempt: 0\n",
                        "https://cityio.media.mit.edu/api/table/yourtest/meta/hashes/ Attempt: 0\n",
                        "https://cityio.media.mit.edu/api/table/yourtest/meta/hashes/ Attempt: 0\n",
                        "https://cityio.media.mit.edu/api/table/yourtest/meta/hashes/ Attempt: 0\n",
                        "https://cityio.media.mit.edu/api/table/yourtest/meta/hashes/ Attempt: 0\n",
                        "https://cityio.media.mit.edu/api/table/yourtest/meta/hashes/ Attempt: 0\n",
                        "https://cityio.media.mit.edu/api/table/yourtest/meta/hashes/ Attempt: 0\n",
                        "https://cityio.media.mit.edu/api/table/yourtest/meta/hashes/ Attempt: 0\n",
                        "https://cityio.media.mit.edu/api/table/yourtest/meta/hashes/ Attempt: 0\n",
                        "https://cityio.media.mit.edu/api/table/yourtest/meta/hashes/ Attempt: 0\n",
                        "https://cityio.media.mit.edu/api/table/yourtest/meta/hashes/ Attempt: 0\n",
                        "https://cityio.media.mit.edu/api/table/yourtest/meta/hashes/ Attempt: 0\n",
                        "https://cityio.media.mit.edu/api/table/yourtest/meta/hashes/ Attempt: 0\n",
                        "https://cityio.media.mit.edu/api/table/yourtest/meta/hashes/ Attempt: 0\n",
                        "https://cityio.media.mit.edu/api/table/yourtest/meta/hashes/ Attempt: 0\n",
                        "https://cityio.media.mit.edu/api/table/yourtest/meta/hashes/ Attempt: 0\n",
                        "https://cityio.media.mit.edu/api/table/yourtest/meta/hashes/ Attempt: 0\n",
                        "https://cityio.media.mit.edu/api/table/yourtest/meta/hashes/ Attempt: 0\n",
                        "https://cityio.media.mit.edu/api/table/yourtest/meta/hashes/ Attempt: 0\n",
                        "https://cityio.media.mit.edu/api/table/yourtest/meta/hashes/ Attempt: 0\n",
                        "https://cityio.media.mit.edu/api/table/yourtest/meta/hashes/ Attempt: 0\n",
                        "https://cityio.media.mit.edu/api/table/yourtest/meta/hashes/ Attempt: 0\n",
                        "https://cityio.media.mit.edu/api/table/yourtest/meta/hashes/ Attempt: 0\n",
                        "https://cityio.media.mit.edu/api/table/yourtest/meta/hashes/ Attempt: 0\n",
                        "https://cityio.media.mit.edu/api/table/yourtest/meta/hashes/ Attempt: 0\n",
                        "https://cityio.media.mit.edu/api/table/yourtest/meta/hashes/ Attempt: 0\n",
                        "https://cityio.media.mit.edu/api/table/yourtest/meta/hashes/ Attempt: 0\n",
                        "https://cityio.media.mit.edu/api/table/yourtest/meta/hashes/ Attempt: 0\n",
                        "https://cityio.media.mit.edu/api/table/yourtest/meta/hashes/ Attempt: 0\n",
                        "https://cityio.media.mit.edu/api/table/yourtest/meta/hashes/ Attempt: 0\n",
                        "https://cityio.media.mit.edu/api/table/yourtest/meta/hashes/ Attempt: 0\n",
                        "https://cityio.media.mit.edu/api/table/yourtest/meta/hashes/ Attempt: 0\n",
                        "https://cityio.media.mit.edu/api/table/yourtest/meta/hashes/ Attempt: 0\n",
                        "https://cityio.media.mit.edu/api/table/yourtest/meta/hashes/ Attempt: 0\n",
                        "https://cityio.media.mit.edu/api/table/yourtest/meta/hashes/ Attempt: 0\n",
                        "https://cityio.media.mit.edu/api/table/yourtest/meta/hashes/ Attempt: 0\n",
                        "https://cityio.media.mit.edu/api/table/yourtest/meta/hashes/ Attempt: 0\n",
                        "https://cityio.media.mit.edu/api/table/yourtest/meta/hashes/ Attempt: 0\n",
                        "https://cityio.media.mit.edu/api/table/yourtest/meta/hashes/ Attempt: 0\n",
                        "https://cityio.media.mit.edu/api/table/yourtest/meta/hashes/ Attempt: 0\n",
                        "https://cityio.media.mit.edu/api/table/yourtest/meta/hashes/ Attempt: 0\n",
                        "https://cityio.media.mit.edu/api/table/yourtest/meta/hashes/ Attempt: 0\n",
                        "https://cityio.media.mit.edu/api/table/yourtest/meta/hashes/ Attempt: 0\n",
                        "https://cityio.media.mit.edu/api/table/yourtest/meta/hashes/ Attempt: 0\n"
                    ]
                }
            ],
            "metadata": {}
        },
        {
            "cell_type": "code",
            "execution_count": 7,
            "source": [
                "def add_height(geogrid_data, levels=1):\r\n",
                "        for cell in geogrid_data:\r\n",
                "                cell['height'] += levels\r\n",
                "        return geogrid_data\r\n",
                "\r\n",
                "def update_g(geogrid_data):\r\n",
                "        for cell in geogrid_data:\r\n",
                "                cell['name'] = 'Institutional'\r\n",
                "        return geogrid_data\r\n"
            ],
            "outputs": [],
            "metadata": {}
        },
        {
            "cell_type": "code",
            "execution_count": null,
            "source": [
                "# H.update_geogrid_data(add_height,levels=3)\r\n",
                "H.add_geogrid_data_update_function(update_g)\r\n",
                "H.listen()"
            ],
            "outputs": [],
            "metadata": {}
        }
    ],
    "metadata": {
        "orig_nbformat": 4,
        "language_info": {
            "name": "python",
            "version": "3.9.6",
            "mimetype": "text/x-python",
            "codemirror_mode": {
                "name": "ipython",
                "version": 3
            },
            "pygments_lexer": "ipython3",
            "nbconvert_exporter": "python",
            "file_extension": ".py"
        },
        "kernelspec": {
            "name": "python3",
            "display_name": "Python 3.9.6 64-bit ('scope': conda)"
        },
        "interpreter": {
            "hash": "e49824ce53f3662f9f83023f596ee15ad2ec23489af04e27b649ccd7c687a497"
        }
    },
    "nbformat": 4,
    "nbformat_minor": 2
}