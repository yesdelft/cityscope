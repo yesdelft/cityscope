{
    "cells": [
        {
            "cell_type": "code",
            "execution_count": 1,
            "source": [
                "from brix import Handler"
            ],
            "outputs": [],
            "metadata": {}
        },
        {
            "cell_type": "code",
            "execution_count": 4,
            "source": [
                "H = Handler('yourtest',quietly=False)\r\n",
                "\r\n",
                "geogrid_data = H.get_geogrid_data()\r\n",
                "# print(geogrid_data)\r\n",
                "# print(H.get_geogrid_data(include_geometries=True))\r\n",
                "\r\n",
                "# print(geogrid_data.get_geogrid_props())\r\n",
                "\r\n",
                "# geogrid_data = H.get_geogrid_data()\r\n",
                "# print(geogrid_data.as_df())\r\n",
                "\r\n"
            ],
            "outputs": [
                {
                    "output_type": "stream",
                    "name": "stdout",
                    "text": [
                        "https://cityio.media.mit.edu/api/tables/list/ Attempt: 0\n",
                        "https://cityio.media.mit.edu/api/table/yourtest/meta/hashes/ Attempt: 0\n",
                        "https://cityio.media.mit.edu/api/table/yourtest/GEOGRIDDATA/ Attempt: 0\n",
                        "https://cityio.media.mit.edu/api/table/yourtest/GEOGRID/ Attempt: 0\n"
                    ]
                },
                {
                    "output_type": "stream",
                    "name": "stderr",
                    "text": [
                        "C:\\Users\\Ameno\\Anaconda3\\envs\\scope\\lib\\site-packages\\brix\\classes.py:981: FutureWarning: In a future version of pandas all arguments of DataFrame.drop except for the argument 'labels' will be keyword-only\n",
                        "  geos = gpd.GeoDataFrame(geos.drop('geometry',1),geometry=geos['geometry'].apply(lambda x: shape(x))) # no crs to avoid warning\n"
                    ]
                }
            ],
            "metadata": {}
        },
        {
            "cell_type": "code",
            "execution_count": null,
            "source": [
                "geogrid_data = H.get_geogrid_data()\r\n",
                "geogrid_data = geogrid_data.remove_noninteractive()\r\n",
                "print(geogrid_data.as_df())\r\n",
                "# I.return_indicator(geogrid_data)"
            ],
            "outputs": [],
            "metadata": {}
        },
        {
            "cell_type": "code",
            "execution_count": null,
            "source": [],
            "outputs": [],
            "metadata": {}
        },
        {
            "cell_type": "code",
            "execution_count": null,
            "source": [],
            "outputs": [],
            "metadata": {}
        }
    ],
    "metadata": {
        "orig_nbformat": 4,
        "language_info": {
            "name": "python",
            "version": "3.9.6",
            "mimetype": "text/x-python",
            "codemirror_mode": {
                "name": "ipython",
                "version": 3
            },
            "pygments_lexer": "ipython3",
            "nbconvert_exporter": "python",
            "file_extension": ".py"
        },
        "kernelspec": {
            "name": "python3",
            "display_name": "Python 3.9.6 64-bit ('scope': conda)"
        },
        "interpreter": {
            "hash": "e49824ce53f3662f9f83023f596ee15ad2ec23489af04e27b649ccd7c687a497"
        }
    },
    "nbformat": 4,
    "nbformat_minor": 2
}